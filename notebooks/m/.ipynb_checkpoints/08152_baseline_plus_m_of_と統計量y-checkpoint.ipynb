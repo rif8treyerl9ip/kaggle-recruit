{
 "cells": [
  {
   "cell_type": "code",
   "execution_count": 78,
   "source": [
    "# import os\r\n",
    "# os.listdir('../input')\r\n",
    "import numpy as np\r\n",
    "import pandas as pd\r\n",
    "import matplotlib.pyplot as plt\r\n",
    "import glob, re\r\n",
    "pd.set_option('display.max_columns',10000); pd.set_option('display.max_rows', 50); np.set_printoptions(threshold=90000)\r\n",
    "\r\n",
    "import sys, os\r\n",
    "sys.path.append('../../src/') #モジュールが入っているディレクトリのパスを指定\r\n",
    "\r\n",
    "# import eda\r\n",
    "# import config\r\n",
    "import maprepro as mpre\r\n",
    "import maprepro2 as mpre2\r\n",
    "\r\n"
   ],
   "outputs": [],
   "metadata": {}
  },
  {
   "cell_type": "code",
   "execution_count": 79,
   "source": [
    "path='../../input/'\r\n",
    "# a = pd.read_csv(f'{path}air_reserve.csv',)\r\n",
    "asi = pd.read_csv(f'{path}air_store_info.csv',)\r\n",
    "avd = pd.read_csv(f'{path}air_visit_data.csv',)\r\n",
    "di = pd.read_csv(f'{path}date_info.csv',)\r\n",
    "# a = pd.read_csv(f'{path}hpg_reserve.csv',)\r\n",
    "# a = pd.read_csv(f'{path}hpg_store_info.csv',)\r\n",
    "sa = pd.read_csv(f'{path}sample_submission.csv',)\r\n",
    "# a = pd.read_csv(f'{path}store_id_relation.csv',)\r\n"
   ],
   "outputs": [],
   "metadata": {}
  },
  {
   "cell_type": "code",
   "execution_count": 80,
   "source": [
    "'''\r\n",
    "- 店ごとに日付ごとの平均を出すと同時にnanを作って0で補完\r\n",
    "\r\n",
    "'''\r\n",
    "avd.index = pd.to_datetime(avd['visit_date'])\r\n",
    "# # 店ごとに特定の日に何人来たか\r\n",
    "avd = avd.groupby('air_store_id').apply(lambda g: g['visitors'].resample('1d').mean()).reset_index()\r\n",
    "# avd.query(\"air_store_id == 'air_00a91d42b08b08d9'\" and \"visit_date > '2016-07-01'\" )\r\n",
    "# filtered_df=df.query(\"Joined_date >= '2019-06-1' and Joined_date <='2020-02-05'\")\r\n",
    "avd['visit_date'] = avd['visit_date'].dt.strftime('%Y-%m-%d')\r\n",
    "avd['was_nil'] = avd['visitors'].isnull()\r\n",
    "avd['visitors'].fillna(0, inplace=True)\r\n",
    "\r\n",
    "avd.head(1)\r\n",
    "# avd.shape"
   ],
   "outputs": [
    {
     "output_type": "execute_result",
     "data": {
      "text/plain": [
       "           air_store_id  visit_date  visitors  was_nil\n",
       "0  air_00a91d42b08b08d9  2016-07-01      35.0    False"
      ],
      "text/html": [
       "<div>\n",
       "<style scoped>\n",
       "    .dataframe tbody tr th:only-of-type {\n",
       "        vertical-align: middle;\n",
       "    }\n",
       "\n",
       "    .dataframe tbody tr th {\n",
       "        vertical-align: top;\n",
       "    }\n",
       "\n",
       "    .dataframe thead th {\n",
       "        text-align: right;\n",
       "    }\n",
       "</style>\n",
       "<table border=\"1\" class=\"dataframe\">\n",
       "  <thead>\n",
       "    <tr style=\"text-align: right;\">\n",
       "      <th></th>\n",
       "      <th>air_store_id</th>\n",
       "      <th>visit_date</th>\n",
       "      <th>visitors</th>\n",
       "      <th>was_nil</th>\n",
       "    </tr>\n",
       "  </thead>\n",
       "  <tbody>\n",
       "    <tr>\n",
       "      <th>0</th>\n",
       "      <td>air_00a91d42b08b08d9</td>\n",
       "      <td>2016-07-01</td>\n",
       "      <td>35.0</td>\n",
       "      <td>False</td>\n",
       "    </tr>\n",
       "  </tbody>\n",
       "</table>\n",
       "</div>"
      ]
     },
     "metadata": {},
     "execution_count": 80
    }
   ],
   "metadata": {}
  },
  {
   "cell_type": "code",
   "execution_count": 81,
   "source": [
    "# ラグ特徴量作成\r\n",
    "date_info = pd.read_csv(f'{path}/date_info.csv')\r\n",
    "date_info.rename(columns={'calendar_date': 'visit_date','holiday_flg': 'is_holiday'}, inplace=True)\r\n",
    "date_info['prev_day_is_holiday'] = date_info['is_holiday'].shift().fillna(0)\r\n",
    "date_info['next_day_is_holiday'] = date_info['is_holiday'].shift(-1).fillna(0)\r\n",
    "\r\n",
    "date_info.head(1)\r\n",
    "# date_info.shift()"
   ],
   "outputs": [
    {
     "output_type": "execute_result",
     "data": {
      "text/plain": [
       "   visit_date day_of_week  is_holiday  prev_day_is_holiday  \\\n",
       "0  2016-01-01      Friday           1                  0.0   \n",
       "\n",
       "   next_day_is_holiday  \n",
       "0                  1.0  "
      ],
      "text/html": [
       "<div>\n",
       "<style scoped>\n",
       "    .dataframe tbody tr th:only-of-type {\n",
       "        vertical-align: middle;\n",
       "    }\n",
       "\n",
       "    .dataframe tbody tr th {\n",
       "        vertical-align: top;\n",
       "    }\n",
       "\n",
       "    .dataframe thead th {\n",
       "        text-align: right;\n",
       "    }\n",
       "</style>\n",
       "<table border=\"1\" class=\"dataframe\">\n",
       "  <thead>\n",
       "    <tr style=\"text-align: right;\">\n",
       "      <th></th>\n",
       "      <th>visit_date</th>\n",
       "      <th>day_of_week</th>\n",
       "      <th>is_holiday</th>\n",
       "      <th>prev_day_is_holiday</th>\n",
       "      <th>next_day_is_holiday</th>\n",
       "    </tr>\n",
       "  </thead>\n",
       "  <tbody>\n",
       "    <tr>\n",
       "      <th>0</th>\n",
       "      <td>2016-01-01</td>\n",
       "      <td>Friday</td>\n",
       "      <td>1</td>\n",
       "      <td>0.0</td>\n",
       "      <td>1.0</td>\n",
       "    </tr>\n",
       "  </tbody>\n",
       "</table>\n",
       "</div>"
      ]
     },
     "metadata": {},
     "execution_count": 81
    }
   ],
   "metadata": {}
  },
  {
   "cell_type": "code",
   "execution_count": 82,
   "source": [
    "'''\r\n",
    "外れ値を適正値の中の最大値に置換\r\n",
    "'''\r\n",
    "def find_outliers(series):\r\n",
    "    # 条件式なのでTrue,falseが返る\r\n",
    "    return (series - series.mean()) > 2.4 * series.std()\r\n",
    "\r\n",
    "def cap_values(series):\r\n",
    "    outliers = find_outliers(series)\r\n",
    "    max_val = series[~outliers].max()\r\n",
    "    series[outliers] = max_val\r\n",
    "    return series\r\n",
    "\r\n",
    "\r\n",
    "stores = avd.groupby('air_store_id')\r\n",
    "stores.apply(lambda g: find_outliers(g['visitors'])).values\r\n",
    "avd['is_outlier'] = stores.apply(lambda g: find_outliers(g['visitors'])).values\r\n",
    "\r\n",
    "avd['visitors_capped'] = stores.apply(lambda g: cap_values(g['visitors'])).values\r\n",
    "avd['visitors_capped_log1p'] = np.log1p(avd['visitors_capped'])\r\n",
    "\r\n",
    "# avd.query(\"visit_date > '2016-01-01'\" and \"visit_date < '2016-01-05'\").head(20)"
   ],
   "outputs": [],
   "metadata": {}
  },
  {
   "cell_type": "code",
   "execution_count": 83,
   "source": [
    "sa['air_store_id'] = sa['id'].str.slice(0, 20)\r\n",
    "sa['visit_date'] = sa['id'].str.slice(21)\r\n",
    "sa['is_test'] = True\r\n",
    "sa['visitors'] = np.nan\r\n",
    "sa['test_number'] = range(len(sa))\r\n",
    "# sa"
   ],
   "outputs": [],
   "metadata": {}
  },
  {
   "cell_type": "code",
   "execution_count": 84,
   "source": [
    "'''air_visit+sample_submission+date_info+air_store_info'''\r\n",
    "\r\n",
    "data = pd.concat((avd, sa.drop('id', axis='columns')))\r\n",
    "data['is_test'].fillna(False, inplace=True)\r\n",
    "data = pd.merge(data, date_info, how='left', left_on=['visit_date'], right_on=['visit_date'])\r\n",
    "data = pd.merge(left=data, right=asi, on='air_store_id', how='left')\r\n"
   ],
   "outputs": [],
   "metadata": {}
  },
  {
   "cell_type": "code",
   "execution_count": 85,
   "source": [
    "data['visit_date'] = pd.to_datetime(data['visit_date'])\r\n",
    "data.index = data['visit_date']\r\n",
    "\r\n",
    "# astypeでtrue,false→1,0に変換できる\r\n",
    "data['is_weekend'] = data['day_of_week'].isin(['Saturday', 'Sunday']).astype(int)\r\n",
    "data['day_of_month'] = data['visit_date'].dt.day\r\n",
    "data['month_of_year'] = data['visit_date'].dt.month # 0815\r\n",
    "data['dow'] = data['visit_date'].dt.dayofweek\r\n",
    "data = pd.get_dummies(data, columns=['air_genre_name'])\r\n",
    "# data = pd.get_dummies(data, columns=['day_of_week', 'air_genre_name'])\r\n"
   ],
   "outputs": [],
   "metadata": {}
  },
  {
   "cell_type": "code",
   "execution_count": 86,
   "source": [
    "print(data.shape)\r\n",
    "tr = data.query(\"is_test == False\")\r\n",
    "tmp = tr.groupby(\r\n",
    "    ['air_store_id', 'dow'],\r\n",
    "    as_index=False)['visitors'].min().rename(columns={\r\n",
    "        'visitors': 'min_visitors'\r\n",
    "    })\r\n",
    "data = pd.merge(data, tmp, how='left', on=['air_store_id', 'dow'])\r\n",
    "tmp = tr.groupby(\r\n",
    "    ['air_store_id', 'dow'],\r\n",
    "    as_index=False)['visitors'].mean().rename(columns={\r\n",
    "        'visitors': 'mean_visitors'\r\n",
    "    })\r\n",
    "data = pd.merge(data, tmp, how='left', on=['air_store_id', 'dow'])\r\n",
    "tmp = tr.groupby(\r\n",
    "    ['air_store_id', 'dow'],\r\n",
    "    as_index=False)['visitors'].median().rename(columns={\r\n",
    "        'visitors': 'median_visitors'\r\n",
    "    })\r\n",
    "data = pd.merge(data, tmp, how='left', on=['air_store_id', 'dow'])\r\n",
    "tmp = tr.groupby(\r\n",
    "    ['air_store_id', 'dow'],\r\n",
    "    as_index=False)['visitors'].max().rename(columns={\r\n",
    "        'visitors': 'max_visitors'\r\n",
    "    })\r\n",
    "data = pd.merge(data, tmp, how='left', on=['air_store_id', 'dow'])\r\n",
    "tmp = tr.groupby(\r\n",
    "    ['air_store_id', 'dow'],\r\n",
    "    as_index=False)['visitors'].count().rename(columns={\r\n",
    "        'visitors': 'count_observations'\r\n",
    "    })\r\n",
    "data = pd.merge(data, tmp, how='left', on=['air_store_id', 'dow'])\r\n",
    "\r\n",
    "print(data.shape)\r\n"
   ],
   "outputs": [
    {
     "output_type": "stream",
     "name": "stdout",
     "text": [
      "(328298, 34)\n",
      "(328298, 39)\n"
     ]
    }
   ],
   "metadata": {}
  },
  {
   "cell_type": "code",
   "execution_count": 87,
   "source": [
    "'''\r\n",
    "air_store_id\r\n",
    "visit_date\r\n",
    "test_number\r\n",
    "\r\n",
    "is_holiday\r\n",
    "prev_day_is_holiday\r\n",
    "next_day_is_holiday\r\n",
    "\r\n",
    "air_area_name\r\n",
    "\r\n",
    "latitude\r\n",
    "longitude\r\n",
    "\r\n",
    "is_weekend\r\n",
    "day_of_month\r\n",
    "day_of_week_??\r\n",
    "air_genre_name_??\r\n",
    "\r\n",
    "識別フラグ\r\n",
    "is_test\r\n",
    "was_nil\r\n",
    "\r\n",
    "visitors\r\n",
    "is_outlier\r\n",
    "visitors_capped\r\n",
    "visitors_capped_log1p\r\n",
    "'''\r\n",
    "data.head(2)"
   ],
   "outputs": [
    {
     "output_type": "execute_result",
     "data": {
      "text/plain": [
       "           air_store_id visit_date  visitors was_nil is_outlier  \\\n",
       "0  air_00a91d42b08b08d9 2016-07-01      35.0   False      False   \n",
       "1  air_00a91d42b08b08d9 2016-07-02       9.0   False      False   \n",
       "\n",
       "   visitors_capped  visitors_capped_log1p  is_test  test_number day_of_week  \\\n",
       "0             35.0               3.583519    False          NaN      Friday   \n",
       "1              9.0               2.302585    False          NaN    Saturday   \n",
       "\n",
       "   is_holiday  prev_day_is_holiday  next_day_is_holiday  \\\n",
       "0           0                  0.0                  0.0   \n",
       "1           0                  0.0                  0.0   \n",
       "\n",
       "                     air_area_name   latitude   longitude  is_weekend  \\\n",
       "0  Tōkyō-to Chiyoda-ku Kudanminami  35.694003  139.753595           0   \n",
       "1  Tōkyō-to Chiyoda-ku Kudanminami  35.694003  139.753595           1   \n",
       "\n",
       "   day_of_month  month_of_year  dow  air_genre_name_Asian  \\\n",
       "0             1              7    4                     0   \n",
       "1             2              7    5                     0   \n",
       "\n",
       "   air_genre_name_Bar/Cocktail  air_genre_name_Cafe/Sweets  \\\n",
       "0                            0                           0   \n",
       "1                            0                           0   \n",
       "\n",
       "   air_genre_name_Creative cuisine  air_genre_name_Dining bar  \\\n",
       "0                                0                          0   \n",
       "1                                0                          0   \n",
       "\n",
       "   air_genre_name_International cuisine  air_genre_name_Italian/French  \\\n",
       "0                                     0                              1   \n",
       "1                                     0                              1   \n",
       "\n",
       "   air_genre_name_Izakaya  air_genre_name_Japanese food  \\\n",
       "0                       0                             0   \n",
       "1                       0                             0   \n",
       "\n",
       "   air_genre_name_Karaoke/Party  air_genre_name_Okonomiyaki/Monja/Teppanyaki  \\\n",
       "0                             0                                            0   \n",
       "1                             0                                            0   \n",
       "\n",
       "   air_genre_name_Other  air_genre_name_Western food  \\\n",
       "0                     0                            0   \n",
       "1                     0                            0   \n",
       "\n",
       "   air_genre_name_Yakiniku/Korean food  min_visitors  mean_visitors  \\\n",
       "0                                    0           0.0      33.953488   \n",
       "1                                    0           0.0      13.232558   \n",
       "\n",
       "   median_visitors  max_visitors  count_observations  \n",
       "0             35.0          57.0                  43  \n",
       "1              9.0          99.0                  43  "
      ],
      "text/html": [
       "<div>\n",
       "<style scoped>\n",
       "    .dataframe tbody tr th:only-of-type {\n",
       "        vertical-align: middle;\n",
       "    }\n",
       "\n",
       "    .dataframe tbody tr th {\n",
       "        vertical-align: top;\n",
       "    }\n",
       "\n",
       "    .dataframe thead th {\n",
       "        text-align: right;\n",
       "    }\n",
       "</style>\n",
       "<table border=\"1\" class=\"dataframe\">\n",
       "  <thead>\n",
       "    <tr style=\"text-align: right;\">\n",
       "      <th></th>\n",
       "      <th>air_store_id</th>\n",
       "      <th>visit_date</th>\n",
       "      <th>visitors</th>\n",
       "      <th>was_nil</th>\n",
       "      <th>is_outlier</th>\n",
       "      <th>visitors_capped</th>\n",
       "      <th>visitors_capped_log1p</th>\n",
       "      <th>is_test</th>\n",
       "      <th>test_number</th>\n",
       "      <th>day_of_week</th>\n",
       "      <th>is_holiday</th>\n",
       "      <th>prev_day_is_holiday</th>\n",
       "      <th>next_day_is_holiday</th>\n",
       "      <th>air_area_name</th>\n",
       "      <th>latitude</th>\n",
       "      <th>longitude</th>\n",
       "      <th>is_weekend</th>\n",
       "      <th>day_of_month</th>\n",
       "      <th>month_of_year</th>\n",
       "      <th>dow</th>\n",
       "      <th>air_genre_name_Asian</th>\n",
       "      <th>air_genre_name_Bar/Cocktail</th>\n",
       "      <th>air_genre_name_Cafe/Sweets</th>\n",
       "      <th>air_genre_name_Creative cuisine</th>\n",
       "      <th>air_genre_name_Dining bar</th>\n",
       "      <th>air_genre_name_International cuisine</th>\n",
       "      <th>air_genre_name_Italian/French</th>\n",
       "      <th>air_genre_name_Izakaya</th>\n",
       "      <th>air_genre_name_Japanese food</th>\n",
       "      <th>air_genre_name_Karaoke/Party</th>\n",
       "      <th>air_genre_name_Okonomiyaki/Monja/Teppanyaki</th>\n",
       "      <th>air_genre_name_Other</th>\n",
       "      <th>air_genre_name_Western food</th>\n",
       "      <th>air_genre_name_Yakiniku/Korean food</th>\n",
       "      <th>min_visitors</th>\n",
       "      <th>mean_visitors</th>\n",
       "      <th>median_visitors</th>\n",
       "      <th>max_visitors</th>\n",
       "      <th>count_observations</th>\n",
       "    </tr>\n",
       "  </thead>\n",
       "  <tbody>\n",
       "    <tr>\n",
       "      <th>0</th>\n",
       "      <td>air_00a91d42b08b08d9</td>\n",
       "      <td>2016-07-01</td>\n",
       "      <td>35.0</td>\n",
       "      <td>False</td>\n",
       "      <td>False</td>\n",
       "      <td>35.0</td>\n",
       "      <td>3.583519</td>\n",
       "      <td>False</td>\n",
       "      <td>NaN</td>\n",
       "      <td>Friday</td>\n",
       "      <td>0</td>\n",
       "      <td>0.0</td>\n",
       "      <td>0.0</td>\n",
       "      <td>Tōkyō-to Chiyoda-ku Kudanminami</td>\n",
       "      <td>35.694003</td>\n",
       "      <td>139.753595</td>\n",
       "      <td>0</td>\n",
       "      <td>1</td>\n",
       "      <td>7</td>\n",
       "      <td>4</td>\n",
       "      <td>0</td>\n",
       "      <td>0</td>\n",
       "      <td>0</td>\n",
       "      <td>0</td>\n",
       "      <td>0</td>\n",
       "      <td>0</td>\n",
       "      <td>1</td>\n",
       "      <td>0</td>\n",
       "      <td>0</td>\n",
       "      <td>0</td>\n",
       "      <td>0</td>\n",
       "      <td>0</td>\n",
       "      <td>0</td>\n",
       "      <td>0</td>\n",
       "      <td>0.0</td>\n",
       "      <td>33.953488</td>\n",
       "      <td>35.0</td>\n",
       "      <td>57.0</td>\n",
       "      <td>43</td>\n",
       "    </tr>\n",
       "    <tr>\n",
       "      <th>1</th>\n",
       "      <td>air_00a91d42b08b08d9</td>\n",
       "      <td>2016-07-02</td>\n",
       "      <td>9.0</td>\n",
       "      <td>False</td>\n",
       "      <td>False</td>\n",
       "      <td>9.0</td>\n",
       "      <td>2.302585</td>\n",
       "      <td>False</td>\n",
       "      <td>NaN</td>\n",
       "      <td>Saturday</td>\n",
       "      <td>0</td>\n",
       "      <td>0.0</td>\n",
       "      <td>0.0</td>\n",
       "      <td>Tōkyō-to Chiyoda-ku Kudanminami</td>\n",
       "      <td>35.694003</td>\n",
       "      <td>139.753595</td>\n",
       "      <td>1</td>\n",
       "      <td>2</td>\n",
       "      <td>7</td>\n",
       "      <td>5</td>\n",
       "      <td>0</td>\n",
       "      <td>0</td>\n",
       "      <td>0</td>\n",
       "      <td>0</td>\n",
       "      <td>0</td>\n",
       "      <td>0</td>\n",
       "      <td>1</td>\n",
       "      <td>0</td>\n",
       "      <td>0</td>\n",
       "      <td>0</td>\n",
       "      <td>0</td>\n",
       "      <td>0</td>\n",
       "      <td>0</td>\n",
       "      <td>0</td>\n",
       "      <td>0.0</td>\n",
       "      <td>13.232558</td>\n",
       "      <td>9.0</td>\n",
       "      <td>99.0</td>\n",
       "      <td>43</td>\n",
       "    </tr>\n",
       "  </tbody>\n",
       "</table>\n",
       "</div>"
      ]
     },
     "metadata": {},
     "execution_count": 87
    }
   ],
   "metadata": {}
  },
  {
   "cell_type": "code",
   "execution_count": 88,
   "source": [
    "# data['visitors_log1p'] = np.log1p(data['visitors'])\r\n",
    "train = data[(data['is_test'] == False) & (data['is_outlier'] == False) & (data['was_nil'] == False)]\r\n",
    "test = data[data['is_test']].sort_values('test_number')\r\n",
    "\r\n",
    "to_drop = ['air_store_id', 'is_test', 'test_number', 'visit_date', 'was_nil',\r\n",
    "           'is_outlier', 'visitors_capped', 'visitors', 'air_area_name','day_of_week']\r\n",
    "        #    'visitors_capped_log1p']\r\n",
    "# to_drop = ['air_store_id', 'is_test', 'test_number', 'visit_date', 'was_nil',\r\n",
    "#            'is_outlier', 'visitors_capped', 'visitors', 'air_area_name',\r\n",
    "#            'station_id', 'station_latitude', 'station_longitude', 'station_vincenty',\r\n",
    "#            'station_great_circle', 'visitors_capped_log1p']\r\n",
    "train = train.drop(to_drop, axis='columns')\r\n",
    "train = train.dropna()\r\n",
    "test = test.drop(to_drop, axis='columns')\r\n",
    "\r\n",
    "# X_train = train.drop('visitors_log1p', axis='columns')\r\n",
    "X_train = train.drop('visitors_capped_log1p', axis='columns')\r\n",
    "X_test = test.drop('visitors_capped_log1p', axis='columns')\r\n",
    "# X_test = test.drop('visitors_log1p', axis='columns')\r\n",
    "# y_train = train['visitors_log1p']\r\n",
    "y_train = train['visitors_capped_log1p']"
   ],
   "outputs": [],
   "metadata": {}
  },
  {
   "cell_type": "code",
   "execution_count": 89,
   "source": [
    "import hashlib\r\n",
    "\r\n",
    "class TunerCVCheckpointCallback(object):\r\n",
    "    \"\"\"Optuna の LightGBMTunerCV から学習済みモデルを取り出すためのコールバック\"\"\"\r\n",
    "\r\n",
    "    def __init__(self):\r\n",
    "        # オンメモリでモデルを記録しておく辞書\r\n",
    "        self.cv_boosters = {}\r\n",
    "\r\n",
    "    @staticmethod\r\n",
    "    def params_to_hash(params):\r\n",
    "        \"\"\"パラメータを元に辞書のキーとなるハッシュを計算する\"\"\"\r\n",
    "        # params_hash = hash((frozenset(params.items())))\r\n",
    "        params_hash = hashlib.sha512(str(frozenset(params.items())).encode()).hexdigest()\r\n",
    "        return params_hash\r\n",
    "\r\n",
    "    def get_trained_model(self, params):\r\n",
    "        \"\"\"パラメータをキーとして学習済みモデルを取り出す\"\"\"\r\n",
    "        params_hash = self.params_to_hash(params)\r\n",
    "        return self.cv_boosters[params_hash]\r\n",
    "\r\n",
    "    def __call__(self, env):\r\n",
    "        \"\"\"LightGBM の各ラウンドで呼ばれるコールバック\"\"\"\r\n",
    "        # 学習に使うパラメータをハッシュ値に変換する\r\n",
    "        params_hash = self.params_to_hash(env.params)\r\n",
    "        # 初登場のパラメータならモデルへの参照を保持する\r\n",
    "        if params_hash not in self.cv_boosters:\r\n",
    "            self.cv_boosters[params_hash] = env.model\r\n",
    "        # else:\r\n",
    "        #     print(f'{params_hash}が衝突しました'*2)\r\n",
    "        #     self.cv_boosters[params_hash] = env.model\r\n",
    "    "
   ],
   "outputs": [],
   "metadata": {}
  },
  {
   "cell_type": "code",
   "execution_count": 90,
   "source": [
    "from optuna.integration import lightgbm as lgb\r\n",
    "from sklearn import datasets\r\n",
    "from sklearn.metrics import accuracy_score\r\n",
    "from sklearn.model_selection import StratifiedKFold, train_test_split\r\n",
    "\r\n",
    "import lightgbm as lgbm\r\n",
    "from sklearn import metrics\r\n",
    "from sklearn import model_selection\r\n",
    "\r\n",
    "\r\n",
    "np.random.seed(0)\r\n",
    "\r\n",
    "n_splits = 2\r\n",
    "\r\n",
    "# val_scores = [0] * n_splits\r\n",
    "\r\n",
    "sub = sa['id'].to_frame()\r\n",
    "sub['visitors'] = 0\r\n",
    "\r\n",
    "feature_importances = pd.DataFrame(index=X_train.columns)\r\n",
    "\r\n",
    "# デモ用にデータセットを分割する\r\n",
    "X_train, X_test, y_train, y_test = train_test_split(X_train, y_train,\r\n",
    "                                                    shuffle=True,\r\n",
    "                                                    random_state=42)\r\n",
    "\r\n",
    "lgb_train = lgb.Dataset(X_train, y_train)\r\n",
    "\r\n",
    "folds = model_selection.KFold(n_splits=n_splits, shuffle=True, random_state=0)\r\n",
    "\r\n",
    "# 学習済みモデルへの参照を保持するためのコールバック\r\n",
    "checkpoint_cb = TunerCVCheckpointCallback()\r\n",
    "callbacks = [\r\n",
    "    checkpoint_cb,\r\n",
    "]\r\n",
    "\r\n",
    "lgbm_params = {\r\n",
    "    'objective': 'regression',\r\n",
    "    'metric': 'rmse',\r\n",
    "    'verbosity': -1,\r\n",
    "}\r\n",
    "\r\n",
    "tuner_cv = lgb.LightGBMTunerCV(\r\n",
    "    lgbm_params, lgb_train,\r\n",
    "    # num_boost_round=3,\r\n",
    "    # early_stopping_rounds=1,\r\n",
    "    # verbose_eval=20,\r\n",
    "    num_boost_round=1000,\r\n",
    "    early_stopping_rounds=100,\r\n",
    "    verbose_eval=200,\r\n",
    "    folds=folds,\r\n",
    "    callbacks=callbacks,\r\n",
    ")\r\n",
    "\r\n",
    "tuner_cv.run()\r\n",
    "# NOTE: 念のためハッシュの衝突に備えて Trial の数と学習済みモデルの数を比較しておく\r\n",
    "assert len(checkpoint_cb.cv_boosters) == len(tuner_cv.study.trials)\r\n",
    "# assert len(checkpoint_cb.cv_boosters) == len(tuner_cv.study.trials) - 1\r\n",
    "    \r\n",
    "# 最も良かったパラメータをキーにして学習済みモデルを取り出す\r\n",
    "cv_booster = checkpoint_cb.get_trained_model(tuner_cv.best_params)\r\n",
    "# Averaging でホールドアウト検証データを予測する\r\n",
    "# y_pred_proba_list = cv_booster.predict(X_test,\r\n",
    "#                                         num_iteration=cv_booster.best_iteration)\r\n",
    "# y_pred_proba_avg = np.array(y_pred_proba_list).mean(axis=0)\r\n",
    "# y_pred = np.where(y_pred_proba_avg > 0.5, 1, 0)\r\n",
    "\r\n",
    "# sub['visitors'] /= n_splits\r\n",
    "# sub['visitors'] = np.expm1(sub['visitors'])\r\n",
    "\r\n",
    "# val_mean = np.mean(val_scores)\r\n",
    "# val_std = np.std(val_scores)\r\n",
    "\r\n",
    "# print('Local RMSLE: {:.5f} (±{:.5f})'.format(val_mean, val_std))\r\n"
   ],
   "outputs": [
    {
     "output_type": "stream",
     "name": "stderr",
     "text": [
      "\u001b[32m[I 2021-08-15 18:42:45,321]\u001b[0m A new study created in memory with name: no-name-30c90caf-54a0-4044-b37a-9ce87c05ba09\u001b[0m\n"
     ]
    },
    {
     "output_type": "stream",
     "name": "stdout",
     "text": [
      "[200]\tcv_agg's rmse: 0.497996 + 0.00107853\n",
      "[400]\tcv_agg's rmse: 0.497014 + 0.00109129\n"
     ]
    },
    {
     "output_type": "stream",
     "name": "stderr",
     "text": [
      "\u001b[32m[I 2021-08-15 18:42:47,398]\u001b[0m Trial 0 finished with value: 0.4969088333685169 and parameters: {'feature_fraction': 0.5}. Best is trial 0 with value: 0.4969088333685169.\u001b[0m\n"
     ]
    },
    {
     "output_type": "stream",
     "name": "stdout",
     "text": [
      "[200]\tcv_agg's rmse: 0.497754 + 0.00108942\n",
      "[400]\tcv_agg's rmse: 0.496747 + 0.00109779\n"
     ]
    },
    {
     "output_type": "stream",
     "name": "stderr",
     "text": [
      "\u001b[32m[I 2021-08-15 18:42:49,317]\u001b[0m Trial 1 finished with value: 0.4966328727006911 and parameters: {'feature_fraction': 0.7}. Best is trial 1 with value: 0.4966328727006911.\u001b[0m\n"
     ]
    },
    {
     "output_type": "stream",
     "name": "stdout",
     "text": [
      "[200]\tcv_agg's rmse: 0.498711 + 0.0010882\n",
      "[400]\tcv_agg's rmse: 0.49753 + 0.000781936\n"
     ]
    },
    {
     "output_type": "stream",
     "name": "stderr",
     "text": [
      "\u001b[32m[I 2021-08-15 18:42:51,669]\u001b[0m Trial 2 finished with value: 0.4974436743570204 and parameters: {'feature_fraction': 0.4}. Best is trial 1 with value: 0.4966328727006911.\u001b[0m\n"
     ]
    },
    {
     "output_type": "stream",
     "name": "stdout",
     "text": [
      "[200]\tcv_agg's rmse: 0.497706 + 0.00126056\n",
      "[400]\tcv_agg's rmse: 0.496682 + 0.00134531\n",
      "[600]\tcv_agg's rmse: 0.49651 + 0.00138086\n"
     ]
    },
    {
     "output_type": "stream",
     "name": "stderr",
     "text": [
      "\u001b[32m[I 2021-08-15 18:42:54,220]\u001b[0m Trial 3 finished with value: 0.4965091962764566 and parameters: {'feature_fraction': 0.6}. Best is trial 3 with value: 0.4965091962764566.\u001b[0m\n"
     ]
    },
    {
     "output_type": "stream",
     "name": "stdout",
     "text": [
      "[200]\tcv_agg's rmse: 0.497552 + 0.0011014\n"
     ]
    },
    {
     "output_type": "stream",
     "name": "stderr",
     "text": [
      "\u001b[32m[I 2021-08-15 18:42:55,913]\u001b[0m Trial 4 finished with value: 0.49695892768291416 and parameters: {'feature_fraction': 1.0}. Best is trial 3 with value: 0.4965091962764566.\u001b[0m\n"
     ]
    },
    {
     "output_type": "stream",
     "name": "stdout",
     "text": [
      "[400]\tcv_agg's rmse: 0.496995 + 0.00106471\n",
      "[200]\tcv_agg's rmse: 0.497387 + 0.000759409\n",
      "[400]\tcv_agg's rmse: 0.496838 + 0.000920214\n"
     ]
    },
    {
     "output_type": "stream",
     "name": "stderr",
     "text": [
      "\u001b[32m[I 2021-08-15 18:42:58,043]\u001b[0m Trial 5 finished with value: 0.4967503349994362 and parameters: {'feature_fraction': 0.8999999999999999}. Best is trial 3 with value: 0.4965091962764566.\u001b[0m\n"
     ]
    },
    {
     "output_type": "stream",
     "name": "stdout",
     "text": [
      "[200]\tcv_agg's rmse: 0.497427 + 0.00120189\n",
      "[400]\tcv_agg's rmse: 0.496601 + 0.0013031\n"
     ]
    },
    {
     "output_type": "stream",
     "name": "stderr",
     "text": [
      "\u001b[32m[I 2021-08-15 18:42:59,952]\u001b[0m Trial 6 finished with value: 0.49644627788792606 and parameters: {'feature_fraction': 0.8}. Best is trial 6 with value: 0.49644627788792606.\u001b[0m\n",
      "feature_fraction, val_score: 0.496446: 100%|##########| 7/7 [00:14<00:00,  2.09s/it]\n"
     ]
    },
    {
     "output_type": "stream",
     "name": "stdout",
     "text": [
      "[200]\tcv_agg's rmse: 0.497336 + 0.00110252\n",
      "[400]\tcv_agg's rmse: 0.496683 + 0.00107687\n"
     ]
    },
    {
     "output_type": "stream",
     "name": "stderr",
     "text": [
      "\u001b[32m[I 2021-08-15 18:43:01,789]\u001b[0m Trial 7 finished with value: 0.4966002752218937 and parameters: {'num_leaves': 33}. Best is trial 7 with value: 0.4966002752218937.\u001b[0m\n",
      "\u001b[32m[I 2021-08-15 18:43:03,967]\u001b[0m Trial 8 finished with value: 0.4974520787467309 and parameters: {'num_leaves': 194}. Best is trial 7 with value: 0.4966002752218937.\u001b[0m\n"
     ]
    },
    {
     "output_type": "stream",
     "name": "stdout",
     "text": [
      "[200]\tcv_agg's rmse: 0.499642 + 0.00108876\n",
      "[400]\tcv_agg's rmse: 0.498094 + 0.00106638\n",
      "[600]\tcv_agg's rmse: 0.497357 + 0.00100802\n",
      "[800]\tcv_agg's rmse: 0.497002 + 0.00105165\n"
     ]
    },
    {
     "output_type": "stream",
     "name": "stderr",
     "text": [
      "\u001b[32m[I 2021-08-15 18:43:06,160]\u001b[0m Trial 9 finished with value: 0.49693550767804395 and parameters: {'num_leaves': 13}. Best is trial 7 with value: 0.4966002752218937.\u001b[0m\n",
      "\u001b[32m[I 2021-08-15 18:43:08,683]\u001b[0m Trial 10 finished with value: 0.4972902518972955 and parameters: {'num_leaves': 201}. Best is trial 7 with value: 0.4966002752218937.\u001b[0m\n",
      "\u001b[32m[I 2021-08-15 18:43:10,726]\u001b[0m Trial 11 finished with value: 0.49655038863363476 and parameters: {'num_leaves': 128}. Best is trial 11 with value: 0.49655038863363476.\u001b[0m\n"
     ]
    },
    {
     "output_type": "stream",
     "name": "stdout",
     "text": [
      "[200]\tcv_agg's rmse: 0.497072 + 0.000878947\n"
     ]
    },
    {
     "output_type": "stream",
     "name": "stderr",
     "text": [
      "\u001b[32m[I 2021-08-15 18:43:12,918]\u001b[0m Trial 12 finished with value: 0.4972677653969243 and parameters: {'num_leaves': 196}. Best is trial 11 with value: 0.49655038863363476.\u001b[0m\n"
     ]
    },
    {
     "output_type": "stream",
     "name": "stdout",
     "text": [
      "[200]\tcv_agg's rmse: 0.49696 + 0.000962491\n"
     ]
    },
    {
     "output_type": "stream",
     "name": "stderr",
     "text": [
      "\u001b[32m[I 2021-08-15 18:43:14,814]\u001b[0m Trial 13 finished with value: 0.496913179848533 and parameters: {'num_leaves': 90}. Best is trial 11 with value: 0.49655038863363476.\u001b[0m\n",
      "\u001b[32m[I 2021-08-15 18:43:17,368]\u001b[0m Trial 14 finished with value: 0.49739802125982335 and parameters: {'num_leaves': 208}. Best is trial 11 with value: 0.49655038863363476.\u001b[0m\n"
     ]
    },
    {
     "output_type": "stream",
     "name": "stdout",
     "text": [
      "[200]\tcv_agg's rmse: 0.498925 + 0.00132394\n",
      "[200]\tcv_agg's rmse: 0.496671 + 0.000838588\n"
     ]
    },
    {
     "output_type": "stream",
     "name": "stderr",
     "text": [
      "\u001b[32m[I 2021-08-15 18:43:19,094]\u001b[0m Trial 15 finished with value: 0.4966111897965026 and parameters: {'num_leaves': 81}. Best is trial 11 with value: 0.49655038863363476.\u001b[0m\n"
     ]
    },
    {
     "output_type": "stream",
     "name": "stdout",
     "text": [
      "[200]\tcv_agg's rmse: 0.497427 + 0.00120189\n",
      "[400]\tcv_agg's rmse: 0.496601 + 0.0013031\n"
     ]
    },
    {
     "output_type": "stream",
     "name": "stderr",
     "text": [
      "\u001b[32m[I 2021-08-15 18:43:20,961]\u001b[0m Trial 16 finished with value: 0.49644627788792606 and parameters: {'num_leaves': 31}. Best is trial 16 with value: 0.49644627788792606.\u001b[0m\n"
     ]
    },
    {
     "output_type": "stream",
     "name": "stdout",
     "text": [
      "[200]\tcv_agg's rmse: 0.496741 + 0.000963714\n"
     ]
    },
    {
     "output_type": "stream",
     "name": "stderr",
     "text": [
      "\u001b[32m[I 2021-08-15 18:43:22,645]\u001b[0m Trial 17 finished with value: 0.4966145354226844 and parameters: {'num_leaves': 48}. Best is trial 16 with value: 0.49644627788792606.\u001b[0m\n",
      "\u001b[32m[I 2021-08-15 18:43:24,565]\u001b[0m Trial 18 finished with value: 0.49689822203533507 and parameters: {'num_leaves': 129}. Best is trial 16 with value: 0.49644627788792606.\u001b[0m\n"
     ]
    },
    {
     "output_type": "stream",
     "name": "stdout",
     "text": [
      "[200]\tcv_agg's rmse: 0.497355 + 0.000967634\n",
      "[200]\tcv_agg's rmse: 0.497635 + 0.000951339\n"
     ]
    },
    {
     "output_type": "stream",
     "name": "stderr",
     "text": [
      "\u001b[32m[I 2021-08-15 18:43:27,225]\u001b[0m Trial 19 finished with value: 0.49693005136324686 and parameters: {'num_leaves': 144}. Best is trial 16 with value: 0.49644627788792606.\u001b[0m\n",
      "\u001b[32m[I 2021-08-15 18:43:30,087]\u001b[0m Trial 20 finished with value: 0.4977094922796381 and parameters: {'num_leaves': 250}. Best is trial 16 with value: 0.49644627788792606.\u001b[0m\n",
      "\u001b[32m[I 2021-08-15 18:43:32,112]\u001b[0m Trial 21 finished with value: 0.49692582055822065 and parameters: {'num_leaves': 121}. Best is trial 16 with value: 0.49644627788792606.\u001b[0m\n"
     ]
    },
    {
     "output_type": "stream",
     "name": "stdout",
     "text": [
      "[200]\tcv_agg's rmse: 0.497235 + 0.000962955\n",
      "[200]\tcv_agg's rmse: 0.496774 + 0.00105371\n"
     ]
    },
    {
     "output_type": "stream",
     "name": "stderr",
     "text": [
      "\u001b[32m[I 2021-08-15 18:43:34,242]\u001b[0m Trial 22 finished with value: 0.4967252850522953 and parameters: {'num_leaves': 69}. Best is trial 16 with value: 0.49644627788792606.\u001b[0m\n"
     ]
    },
    {
     "output_type": "stream",
     "name": "stdout",
     "text": [
      "[200]\tcv_agg's rmse: 0.497774 + 0.00111889\n"
     ]
    },
    {
     "output_type": "stream",
     "name": "stderr",
     "text": [
      "\u001b[32m[I 2021-08-15 18:43:36,629]\u001b[0m Trial 23 finished with value: 0.49700072765185144 and parameters: {'num_leaves': 151}. Best is trial 16 with value: 0.49644627788792606.\u001b[0m\n"
     ]
    },
    {
     "output_type": "stream",
     "name": "stdout",
     "text": [
      "[200]\tcv_agg's rmse: 0.500675 + 0.000898678\n",
      "[400]\tcv_agg's rmse: 0.499058 + 0.00103629\n",
      "[600]\tcv_agg's rmse: 0.498167 + 0.000944844\n",
      "[800]\tcv_agg's rmse: 0.497684 + 0.000939934\n"
     ]
    },
    {
     "output_type": "stream",
     "name": "stderr",
     "text": [
      "\u001b[32m[I 2021-08-15 18:43:38,648]\u001b[0m Trial 24 finished with value: 0.49748728482650484 and parameters: {'num_leaves': 9}. Best is trial 16 with value: 0.49644627788792606.\u001b[0m\n"
     ]
    },
    {
     "output_type": "stream",
     "name": "stdout",
     "text": [
      "[1000]\tcv_agg's rmse: 0.497487 + 0.000868372\n",
      "[200]\tcv_agg's rmse: 0.496943 + 0.000977051\n"
     ]
    },
    {
     "output_type": "stream",
     "name": "stderr",
     "text": [
      "\u001b[32m[I 2021-08-15 18:43:40,652]\u001b[0m Trial 25 finished with value: 0.49682251817341716 and parameters: {'num_leaves': 112}. Best is trial 16 with value: 0.49644627788792606.\u001b[0m\n",
      "\u001b[32m[I 2021-08-15 18:43:42,703]\u001b[0m Trial 26 finished with value: 0.49705699601096665 and parameters: {'num_leaves': 170}. Best is trial 16 with value: 0.49644627788792606.\u001b[0m\n",
      "num_leaves, val_score: 0.496446: 100%|##########| 20/20 [00:42<00:00,  2.14s/it]\n"
     ]
    },
    {
     "output_type": "stream",
     "name": "stdout",
     "text": [
      "[200]\tcv_agg's rmse: 0.499115 + 0.000952494\n"
     ]
    },
    {
     "output_type": "stream",
     "name": "stderr",
     "text": [
      "\u001b[32m[I 2021-08-15 18:43:44,085]\u001b[0m Trial 27 finished with value: 0.4989997035263167 and parameters: {'bagging_fraction': 0.4363848591885913, 'bagging_freq': 4}. Best is trial 27 with value: 0.4989997035263167.\u001b[0m\n"
     ]
    },
    {
     "output_type": "stream",
     "name": "stdout",
     "text": [
      "[200]\tcv_agg's rmse: 0.49756 + 0.000949938\n"
     ]
    },
    {
     "output_type": "stream",
     "name": "stderr",
     "text": [
      "\u001b[32m[I 2021-08-15 18:43:45,938]\u001b[0m Trial 28 finished with value: 0.49734202789141535 and parameters: {'bagging_fraction': 0.8287485376414567, 'bagging_freq': 3}. Best is trial 28 with value: 0.49734202789141535.\u001b[0m\n"
     ]
    },
    {
     "output_type": "stream",
     "name": "stdout",
     "text": [
      "[200]\tcv_agg's rmse: 0.497785 + 0.00112093\n"
     ]
    },
    {
     "output_type": "stream",
     "name": "stderr",
     "text": [
      "\u001b[32m[I 2021-08-15 18:43:47,860]\u001b[0m Trial 29 finished with value: 0.4972904712230477 and parameters: {'bagging_fraction': 0.6984680428733856, 'bagging_freq': 5}. Best is trial 29 with value: 0.4972904712230477.\u001b[0m\n"
     ]
    },
    {
     "output_type": "stream",
     "name": "stdout",
     "text": [
      "[200]\tcv_agg's rmse: 0.497906 + 0.00118816\n"
     ]
    },
    {
     "output_type": "stream",
     "name": "stderr",
     "text": [
      "\u001b[32m[I 2021-08-15 18:43:49,536]\u001b[0m Trial 30 finished with value: 0.4976301319486641 and parameters: {'bagging_fraction': 0.7074889823894033, 'bagging_freq': 3}. Best is trial 29 with value: 0.4972904712230477.\u001b[0m\n"
     ]
    },
    {
     "output_type": "stream",
     "name": "stdout",
     "text": [
      "[200]\tcv_agg's rmse: 0.497696 + 0.000907105\n",
      "[400]\tcv_agg's rmse: 0.497 + 0.00108623\n"
     ]
    },
    {
     "output_type": "stream",
     "name": "stderr",
     "text": [
      "\u001b[32m[I 2021-08-15 18:43:51,682]\u001b[0m Trial 31 finished with value: 0.4969517288979166 and parameters: {'bagging_fraction': 0.9039720111555601, 'bagging_freq': 7}. Best is trial 31 with value: 0.4969517288979166.\u001b[0m\n"
     ]
    },
    {
     "output_type": "stream",
     "name": "stdout",
     "text": [
      "[200]\tcv_agg's rmse: 0.498185 + 0.00047589\n"
     ]
    },
    {
     "output_type": "stream",
     "name": "stderr",
     "text": [
      "\u001b[32m[I 2021-08-15 18:43:53,769]\u001b[0m Trial 32 finished with value: 0.4980135436780856 and parameters: {'bagging_fraction': 0.5942566396816926, 'bagging_freq': 2}. Best is trial 31 with value: 0.4969517288979166.\u001b[0m\n"
     ]
    },
    {
     "output_type": "stream",
     "name": "stdout",
     "text": [
      "[400]\tcv_agg's rmse: 0.498145 + 0.000492718\n",
      "[200]\tcv_agg's rmse: 0.498395 + 0.00109785\n"
     ]
    },
    {
     "output_type": "stream",
     "name": "stderr",
     "text": [
      "\u001b[32m[I 2021-08-15 18:43:55,242]\u001b[0m Trial 33 finished with value: 0.49836630260541015 and parameters: {'bagging_fraction': 0.5263724853639833, 'bagging_freq': 4}. Best is trial 31 with value: 0.4969517288979166.\u001b[0m\n"
     ]
    },
    {
     "output_type": "stream",
     "name": "stdout",
     "text": [
      "[200]\tcv_agg's rmse: 0.497806 + 0.000944301\n"
     ]
    },
    {
     "output_type": "stream",
     "name": "stderr",
     "text": [
      "\u001b[32m[I 2021-08-15 18:43:57,171]\u001b[0m Trial 34 finished with value: 0.4972720417716212 and parameters: {'bagging_fraction': 0.7740533258798172, 'bagging_freq': 4}. Best is trial 31 with value: 0.4969517288979166.\u001b[0m\n"
     ]
    },
    {
     "output_type": "stream",
     "name": "stdout",
     "text": [
      "[400]\tcv_agg's rmse: 0.497385 + 0.00110595\n",
      "[200]\tcv_agg's rmse: 0.49764 + 0.00104598\n"
     ]
    },
    {
     "output_type": "stream",
     "name": "stderr",
     "text": [
      "\u001b[32m[I 2021-08-15 18:43:59,210]\u001b[0m Trial 35 finished with value: 0.4971797932112012 and parameters: {'bagging_fraction': 0.7900874171575722, 'bagging_freq': 2}. Best is trial 31 with value: 0.4969517288979166.\u001b[0m\n"
     ]
    },
    {
     "output_type": "stream",
     "name": "stdout",
     "text": [
      "[400]\tcv_agg's rmse: 0.497357 + 0.000913058\n",
      "[200]\tcv_agg's rmse: 0.498095 + 0.000844265\n"
     ]
    },
    {
     "output_type": "stream",
     "name": "stderr",
     "text": [
      "\u001b[32m[I 2021-08-15 18:44:00,828]\u001b[0m Trial 36 finished with value: 0.4979133867054192 and parameters: {'bagging_fraction': 0.5780811268290794, 'bagging_freq': 4}. Best is trial 31 with value: 0.4969517288979166.\u001b[0m\n",
      "bagging, val_score: 0.496446: 100%|##########| 10/10 [00:18<00:00,  1.81s/it]\n"
     ]
    },
    {
     "output_type": "stream",
     "name": "stdout",
     "text": [
      "[200]\tcv_agg's rmse: 0.497387 + 0.000759409\n",
      "[400]\tcv_agg's rmse: 0.496838 + 0.000920214\n"
     ]
    },
    {
     "output_type": "stream",
     "name": "stderr",
     "text": [
      "\u001b[32m[I 2021-08-15 18:44:02,715]\u001b[0m Trial 37 finished with value: 0.4967503349994362 and parameters: {'feature_fraction': 0.88}. Best is trial 37 with value: 0.4967503349994362.\u001b[0m\n"
     ]
    },
    {
     "output_type": "stream",
     "name": "stdout",
     "text": [
      "[200]\tcv_agg's rmse: 0.497427 + 0.00120189\n",
      "[400]\tcv_agg's rmse: 0.496601 + 0.0013031\n"
     ]
    },
    {
     "output_type": "stream",
     "name": "stderr",
     "text": [
      "\u001b[32m[I 2021-08-15 18:44:04,600]\u001b[0m Trial 38 finished with value: 0.49644627788792606 and parameters: {'feature_fraction': 0.784}. Best is trial 38 with value: 0.49644627788792606.\u001b[0m\n"
     ]
    },
    {
     "output_type": "stream",
     "name": "stdout",
     "text": [
      "[200]\tcv_agg's rmse: 0.497465 + 0.00112652\n",
      "[400]\tcv_agg's rmse: 0.496717 + 0.00119417\n"
     ]
    },
    {
     "output_type": "stream",
     "name": "stderr",
     "text": [
      "\u001b[32m[I 2021-08-15 18:44:06,687]\u001b[0m Trial 39 finished with value: 0.49662603883232903 and parameters: {'feature_fraction': 0.8160000000000001}. Best is trial 38 with value: 0.49644627788792606.\u001b[0m\n"
     ]
    },
    {
     "output_type": "stream",
     "name": "stdout",
     "text": [
      "[200]\tcv_agg's rmse: 0.497754 + 0.00108942\n",
      "[400]\tcv_agg's rmse: 0.496747 + 0.00109779\n"
     ]
    },
    {
     "output_type": "stream",
     "name": "stderr",
     "text": [
      "\u001b[32m[I 2021-08-15 18:44:08,638]\u001b[0m Trial 40 finished with value: 0.4966328727006911 and parameters: {'feature_fraction': 0.7200000000000001}. Best is trial 38 with value: 0.49644627788792606.\u001b[0m\n"
     ]
    },
    {
     "output_type": "stream",
     "name": "stdout",
     "text": [
      "[200]\tcv_agg's rmse: 0.497438 + 0.00103007\n",
      "[400]\tcv_agg's rmse: 0.496706 + 0.00101475\n"
     ]
    },
    {
     "output_type": "stream",
     "name": "stderr",
     "text": [
      "\u001b[32m[I 2021-08-15 18:44:10,521]\u001b[0m Trial 41 finished with value: 0.49665273808783506 and parameters: {'feature_fraction': 0.7520000000000001}. Best is trial 38 with value: 0.49644627788792606.\u001b[0m\n"
     ]
    },
    {
     "output_type": "stream",
     "name": "stdout",
     "text": [
      "[200]\tcv_agg's rmse: 0.497561 + 0.00113817\n",
      "[400]\tcv_agg's rmse: 0.496873 + 0.00120293\n"
     ]
    },
    {
     "output_type": "stream",
     "name": "stderr",
     "text": [
      "\u001b[32m[I 2021-08-15 18:44:12,337]\u001b[0m Trial 42 finished with value: 0.49683505892072277 and parameters: {'feature_fraction': 0.8480000000000001}. Best is trial 38 with value: 0.49644627788792606.\u001b[0m\n",
      "feature_fraction_stage2, val_score: 0.496446: 100%|##########| 6/6 [00:11<00:00,  1.92s/it]\n"
     ]
    },
    {
     "output_type": "stream",
     "name": "stdout",
     "text": [
      "[200]\tcv_agg's rmse: 0.497477 + 0.0011713\n",
      "[400]\tcv_agg's rmse: 0.496559 + 0.00118712\n"
     ]
    },
    {
     "output_type": "stream",
     "name": "stderr",
     "text": [
      "\u001b[32m[I 2021-08-15 18:44:14,323]\u001b[0m Trial 43 finished with value: 0.49642590098766015 and parameters: {'lambda_l1': 1.3775128853081506, 'lambda_l2': 0.0061616146325814075}. Best is trial 43 with value: 0.49642590098766015.\u001b[0m\n"
     ]
    },
    {
     "output_type": "stream",
     "name": "stdout",
     "text": [
      "[200]\tcv_agg's rmse: 0.497559 + 0.00136123\n",
      "[400]\tcv_agg's rmse: 0.496589 + 0.00124198\n"
     ]
    },
    {
     "output_type": "stream",
     "name": "stderr",
     "text": [
      "\u001b[32m[I 2021-08-15 18:44:16,448]\u001b[0m Trial 44 finished with value: 0.4965168096602367 and parameters: {'lambda_l1': 0.004728939686219355, 'lambda_l2': 2.10570095503734e-05}. Best is trial 43 with value: 0.49642590098766015.\u001b[0m\n"
     ]
    },
    {
     "output_type": "stream",
     "name": "stdout",
     "text": [
      "[200]\tcv_agg's rmse: 0.497541 + 0.00121172\n",
      "[400]\tcv_agg's rmse: 0.496744 + 0.00125261\n"
     ]
    },
    {
     "output_type": "stream",
     "name": "stderr",
     "text": [
      "\u001b[32m[I 2021-08-15 18:44:18,587]\u001b[0m Trial 45 finished with value: 0.4966998893939446 and parameters: {'lambda_l1': 0.0008016631864530417, 'lambda_l2': 0.00012126820808489371}. Best is trial 43 with value: 0.49642590098766015.\u001b[0m\n"
     ]
    },
    {
     "output_type": "stream",
     "name": "stdout",
     "text": [
      "[200]\tcv_agg's rmse: 0.49763 + 0.0010057\n",
      "[400]\tcv_agg's rmse: 0.496715 + 0.00102049\n"
     ]
    },
    {
     "output_type": "stream",
     "name": "stderr",
     "text": [
      "\u001b[32m[I 2021-08-15 18:44:20,690]\u001b[0m Trial 46 finished with value: 0.4966049159788491 and parameters: {'lambda_l1': 0.015579063624683679, 'lambda_l2': 4.794941405728353}. Best is trial 43 with value: 0.49642590098766015.\u001b[0m\n"
     ]
    },
    {
     "output_type": "stream",
     "name": "stdout",
     "text": [
      "[200]\tcv_agg's rmse: 0.497608 + 0.00113478\n",
      "[400]\tcv_agg's rmse: 0.496776 + 0.00107555\n"
     ]
    },
    {
     "output_type": "stream",
     "name": "stderr",
     "text": [
      "\u001b[32m[I 2021-08-15 18:44:22,730]\u001b[0m Trial 47 finished with value: 0.49667861683677084 and parameters: {'lambda_l1': 0.14268981299753153, 'lambda_l2': 0.0019196681671992664}. Best is trial 43 with value: 0.49642590098766015.\u001b[0m\n"
     ]
    },
    {
     "output_type": "stream",
     "name": "stdout",
     "text": [
      "[200]\tcv_agg's rmse: 0.497505 + 0.00112273\n",
      "[400]\tcv_agg's rmse: 0.496858 + 0.00117871\n"
     ]
    },
    {
     "output_type": "stream",
     "name": "stderr",
     "text": [
      "\u001b[32m[I 2021-08-15 18:44:24,539]\u001b[0m Trial 48 finished with value: 0.4967772216635067 and parameters: {'lambda_l1': 9.251987676153863e-08, 'lambda_l2': 0.035007653273897404}. Best is trial 43 with value: 0.49642590098766015.\u001b[0m\n"
     ]
    },
    {
     "output_type": "stream",
     "name": "stdout",
     "text": [
      "[200]\tcv_agg's rmse: 0.497539 + 0.00100898\n",
      "[400]\tcv_agg's rmse: 0.496832 + 0.000889396\n"
     ]
    },
    {
     "output_type": "stream",
     "name": "stderr",
     "text": [
      "\u001b[32m[I 2021-08-15 18:44:26,739]\u001b[0m Trial 49 finished with value: 0.4965758164812111 and parameters: {'lambda_l1': 0.38122943416989624, 'lambda_l2': 3.905010499144499e-07}. Best is trial 43 with value: 0.49642590098766015.\u001b[0m\n"
     ]
    },
    {
     "output_type": "stream",
     "name": "stdout",
     "text": [
      "[600]\tcv_agg's rmse: 0.496669 + 0.00101396\n",
      "[200]\tcv_agg's rmse: 0.497409 + 0.0012763\n",
      "[400]\tcv_agg's rmse: 0.496654 + 0.00131305\n"
     ]
    },
    {
     "output_type": "stream",
     "name": "stderr",
     "text": [
      "\u001b[32m[I 2021-08-15 18:44:28,591]\u001b[0m Trial 50 finished with value: 0.4965394490490584 and parameters: {'lambda_l1': 0.07319383857093623, 'lambda_l2': 8.99209353671452e-07}. Best is trial 43 with value: 0.49642590098766015.\u001b[0m\n"
     ]
    },
    {
     "output_type": "stream",
     "name": "stdout",
     "text": [
      "[200]\tcv_agg's rmse: 0.497662 + 0.000995324\n",
      "[400]\tcv_agg's rmse: 0.496967 + 0.00104544\n"
     ]
    },
    {
     "output_type": "stream",
     "name": "stderr",
     "text": [
      "\u001b[32m[I 2021-08-15 18:44:30,897]\u001b[0m Trial 51 finished with value: 0.49678765409271325 and parameters: {'lambda_l1': 0.03151288875968217, 'lambda_l2': 0.6510766792523066}. Best is trial 43 with value: 0.49642590098766015.\u001b[0m\n"
     ]
    },
    {
     "output_type": "stream",
     "name": "stdout",
     "text": [
      "[600]\tcv_agg's rmse: 0.49691 + 0.0012729\n",
      "[200]\tcv_agg's rmse: 0.497583 + 0.00115405\n",
      "[400]\tcv_agg's rmse: 0.496824 + 0.000915225\n"
     ]
    },
    {
     "output_type": "stream",
     "name": "stderr",
     "text": [
      "\u001b[32m[I 2021-08-15 18:44:32,806]\u001b[0m Trial 52 finished with value: 0.4967743784814448 and parameters: {'lambda_l1': 0.007520221039988095, 'lambda_l2': 5.671463629042955e-05}. Best is trial 43 with value: 0.49642590098766015.\u001b[0m\n"
     ]
    },
    {
     "output_type": "stream",
     "name": "stdout",
     "text": [
      "[200]\tcv_agg's rmse: 0.497535 + 0.00125145\n",
      "[400]\tcv_agg's rmse: 0.496677 + 0.00105513\n"
     ]
    },
    {
     "output_type": "stream",
     "name": "stderr",
     "text": [
      "\u001b[32m[I 2021-08-15 18:44:34,732]\u001b[0m Trial 53 finished with value: 0.4966248057120486 and parameters: {'lambda_l1': 2.8969710300457014e-06, 'lambda_l2': 0.01675953447562349}. Best is trial 43 with value: 0.49642590098766015.\u001b[0m\n"
     ]
    },
    {
     "output_type": "stream",
     "name": "stdout",
     "text": [
      "[200]\tcv_agg's rmse: 0.497965 + 0.000817704\n",
      "[400]\tcv_agg's rmse: 0.497268 + 0.000825891\n"
     ]
    },
    {
     "output_type": "stream",
     "name": "stderr",
     "text": [
      "\u001b[32m[I 2021-08-15 18:44:37,094]\u001b[0m Trial 54 finished with value: 0.4972310876630775 and parameters: {'lambda_l1': 8.102990291482044, 'lambda_l2': 1.0614735428731484e-08}. Best is trial 43 with value: 0.49642590098766015.\u001b[0m\n"
     ]
    },
    {
     "output_type": "stream",
     "name": "stdout",
     "text": [
      "[200]\tcv_agg's rmse: 0.497427 + 0.00120189\n",
      "[400]\tcv_agg's rmse: 0.496525 + 0.00121172\n"
     ]
    },
    {
     "output_type": "stream",
     "name": "stderr",
     "text": [
      "\u001b[32m[I 2021-08-15 18:44:38,999]\u001b[0m Trial 55 finished with value: 0.49645704299434396 and parameters: {'lambda_l1': 2.30642029169573e-05, 'lambda_l2': 1.7330267787718915e-05}. Best is trial 43 with value: 0.49642590098766015.\u001b[0m\n"
     ]
    },
    {
     "output_type": "stream",
     "name": "stdout",
     "text": [
      "[200]\tcv_agg's rmse: 0.497427 + 0.00120189\n",
      "[400]\tcv_agg's rmse: 0.496687 + 0.000983686\n"
     ]
    },
    {
     "output_type": "stream",
     "name": "stderr",
     "text": [
      "\u001b[32m[I 2021-08-15 18:44:41,311]\u001b[0m Trial 56 finished with value: 0.4964065240471137 and parameters: {'lambda_l1': 1.924005740134561e-05, 'lambda_l2': 0.0027467315647182185}. Best is trial 56 with value: 0.4964065240471137.\u001b[0m\n"
     ]
    },
    {
     "output_type": "stream",
     "name": "stdout",
     "text": [
      "[600]\tcv_agg's rmse: 0.496511 + 0.00105047\n",
      "[200]\tcv_agg's rmse: 0.497427 + 0.00120189\n",
      "[400]\tcv_agg's rmse: 0.496804 + 0.000994841\n"
     ]
    },
    {
     "output_type": "stream",
     "name": "stderr",
     "text": [
      "\u001b[32m[I 2021-08-15 18:44:43,243]\u001b[0m Trial 57 finished with value: 0.49666206818720027 and parameters: {'lambda_l1': 3.337076289724409e-05, 'lambda_l2': 0.0023615458113550748}. Best is trial 56 with value: 0.4964065240471137.\u001b[0m\n"
     ]
    },
    {
     "output_type": "stream",
     "name": "stdout",
     "text": [
      "[200]\tcv_agg's rmse: 0.497597 + 0.00124268\n",
      "[400]\tcv_agg's rmse: 0.49666 + 0.00111201\n"
     ]
    },
    {
     "output_type": "stream",
     "name": "stderr",
     "text": [
      "\u001b[32m[I 2021-08-15 18:44:45,505]\u001b[0m Trial 58 finished with value: 0.49657728671672857 and parameters: {'lambda_l1': 1.5829450363646306e-08, 'lambda_l2': 0.10031434500035634}. Best is trial 56 with value: 0.4964065240471137.\u001b[0m\n"
     ]
    },
    {
     "output_type": "stream",
     "name": "stdout",
     "text": [
      "[200]\tcv_agg's rmse: 0.497427 + 0.00120189\n",
      "[400]\tcv_agg's rmse: 0.49674 + 0.000930908\n",
      "[600]\tcv_agg's rmse: 0.496647 + 0.000914487\n"
     ]
    },
    {
     "output_type": "stream",
     "name": "stderr",
     "text": [
      "\u001b[32m[I 2021-08-15 18:44:48,882]\u001b[0m Trial 59 finished with value: 0.49656035911359653 and parameters: {'lambda_l1': 1.1024625610477837e-06, 'lambda_l2': 0.0017298689288722925}. Best is trial 56 with value: 0.4964065240471137.\u001b[0m\n"
     ]
    },
    {
     "output_type": "stream",
     "name": "stdout",
     "text": [
      "[200]\tcv_agg's rmse: 0.497414 + 0.000818903\n",
      "[400]\tcv_agg's rmse: 0.496587 + 0.0008518\n"
     ]
    },
    {
     "output_type": "stream",
     "name": "stderr",
     "text": [
      "\u001b[32m[I 2021-08-15 18:44:51,311]\u001b[0m Trial 60 finished with value: 0.4963801947112205 and parameters: {'lambda_l1': 2.3461562555323727, 'lambda_l2': 0.1814507979529618}. Best is trial 60 with value: 0.4963801947112205.\u001b[0m\n"
     ]
    },
    {
     "output_type": "stream",
     "name": "stdout",
     "text": [
      "[600]\tcv_agg's rmse: 0.496509 + 0.000789431\n",
      "[200]\tcv_agg's rmse: 0.497531 + 0.0011538\n",
      "[400]\tcv_agg's rmse: 0.496565 + 0.00112427\n",
      "[600]\tcv_agg's rmse: 0.496477 + 0.00112891\n"
     ]
    },
    {
     "output_type": "stream",
     "name": "stderr",
     "text": [
      "\u001b[32m[I 2021-08-15 18:44:54,100]\u001b[0m Trial 61 finished with value: 0.4964408357041675 and parameters: {'lambda_l1': 0.00016370959752664345, 'lambda_l2': 9.085582047877256}. Best is trial 60 with value: 0.4963801947112205.\u001b[0m\n"
     ]
    },
    {
     "output_type": "stream",
     "name": "stdout",
     "text": [
      "[200]\tcv_agg's rmse: 0.497507 + 0.000943663\n",
      "[400]\tcv_agg's rmse: 0.496762 + 0.00102672\n"
     ]
    },
    {
     "output_type": "stream",
     "name": "stderr",
     "text": [
      "\u001b[32m[I 2021-08-15 18:44:56,446]\u001b[0m Trial 62 finished with value: 0.49674659402191546 and parameters: {'lambda_l1': 8.839662311326187e-07, 'lambda_l2': 0.33115600249350124}. Best is trial 60 with value: 0.4963801947112205.\u001b[0m\n",
      "regularization_factors, val_score: 0.496380: 100%|##########| 20/20 [00:44<00:00,  2.21s/it]\n"
     ]
    },
    {
     "output_type": "stream",
     "name": "stdout",
     "text": [
      "[200]\tcv_agg's rmse: 0.497376 + 0.00100983\n",
      "[400]\tcv_agg's rmse: 0.496611 + 0.00120883\n"
     ]
    },
    {
     "output_type": "stream",
     "name": "stderr",
     "text": [
      "\u001b[32m[I 2021-08-15 18:44:59,054]\u001b[0m Trial 63 finished with value: 0.496499763626315 and parameters: {'min_child_samples': 25}. Best is trial 63 with value: 0.496499763626315.\u001b[0m\n"
     ]
    },
    {
     "output_type": "stream",
     "name": "stdout",
     "text": [
      "[200]\tcv_agg's rmse: 0.497682 + 0.00102313\n",
      "[400]\tcv_agg's rmse: 0.496883 + 0.00104037\n"
     ]
    },
    {
     "output_type": "stream",
     "name": "stderr",
     "text": [
      "\u001b[32m[I 2021-08-15 18:45:01,460]\u001b[0m Trial 64 finished with value: 0.4968319488080116 and parameters: {'min_child_samples': 50}. Best is trial 63 with value: 0.496499763626315.\u001b[0m\n"
     ]
    },
    {
     "output_type": "stream",
     "name": "stdout",
     "text": [
      "[200]\tcv_agg's rmse: 0.497275 + 0.00109851\n",
      "[400]\tcv_agg's rmse: 0.496347 + 0.00112031\n"
     ]
    },
    {
     "output_type": "stream",
     "name": "stderr",
     "text": [
      "\u001b[32m[I 2021-08-15 18:45:03,542]\u001b[0m Trial 65 finished with value: 0.4962528724008626 and parameters: {'min_child_samples': 10}. Best is trial 65 with value: 0.4962528724008626.\u001b[0m\n"
     ]
    },
    {
     "output_type": "stream",
     "name": "stdout",
     "text": [
      "[200]\tcv_agg's rmse: 0.497685 + 0.00100632\n",
      "[400]\tcv_agg's rmse: 0.497159 + 0.000865549\n"
     ]
    },
    {
     "output_type": "stream",
     "name": "stderr",
     "text": [
      "\u001b[32m[I 2021-08-15 18:45:05,722]\u001b[0m Trial 66 finished with value: 0.49709216812147994 and parameters: {'min_child_samples': 100}. Best is trial 65 with value: 0.4962528724008626.\u001b[0m\n"
     ]
    },
    {
     "output_type": "stream",
     "name": "stdout",
     "text": [
      "[200]\tcv_agg's rmse: 0.497466 + 0.00104515\n",
      "[400]\tcv_agg's rmse: 0.496453 + 0.000917064\n"
     ]
    },
    {
     "output_type": "stream",
     "name": "stderr",
     "text": [
      "\u001b[32m[I 2021-08-15 18:45:08,008]\u001b[0m Trial 67 finished with value: 0.4962154412438128 and parameters: {'min_child_samples': 5}. Best is trial 67 with value: 0.4962154412438128.\u001b[0m\n",
      "min_data_in_leaf, val_score: 0.496215: 100%|##########| 5/5 [00:11<00:00,  2.31s/it]"
     ]
    },
    {
     "output_type": "stream",
     "name": "stdout",
     "text": [
      "[600]\tcv_agg's rmse: 0.496291 + 0.000940722\n"
     ]
    },
    {
     "output_type": "stream",
     "name": "stderr",
     "text": [
      "\n"
     ]
    },
    {
     "output_type": "error",
     "ename": "AssertionError",
     "evalue": "",
     "traceback": [
      "\u001b[1;31m---------------------------------------------------------------------------\u001b[0m",
      "\u001b[1;31mAssertionError\u001b[0m                            Traceback (most recent call last)",
      "\u001b[1;32m<ipython-input-90-8fd93561b216>\u001b[0m in \u001b[0;36m<module>\u001b[1;34m\u001b[0m\n\u001b[0;32m     55\u001b[0m \u001b[0mtuner_cv\u001b[0m\u001b[1;33m.\u001b[0m\u001b[0mrun\u001b[0m\u001b[1;33m(\u001b[0m\u001b[1;33m)\u001b[0m\u001b[1;33m\u001b[0m\u001b[1;33m\u001b[0m\u001b[0m\n\u001b[0;32m     56\u001b[0m \u001b[1;31m# NOTE: 念のためハッシュの衝突に備えて Trial の数と学習済みモデルの数を比較しておく\u001b[0m\u001b[1;33m\u001b[0m\u001b[1;33m\u001b[0m\u001b[1;33m\u001b[0m\u001b[0m\n\u001b[1;32m---> 57\u001b[1;33m \u001b[1;32massert\u001b[0m \u001b[0mlen\u001b[0m\u001b[1;33m(\u001b[0m\u001b[0mcheckpoint_cb\u001b[0m\u001b[1;33m.\u001b[0m\u001b[0mcv_boosters\u001b[0m\u001b[1;33m)\u001b[0m \u001b[1;33m==\u001b[0m \u001b[0mlen\u001b[0m\u001b[1;33m(\u001b[0m\u001b[0mtuner_cv\u001b[0m\u001b[1;33m.\u001b[0m\u001b[0mstudy\u001b[0m\u001b[1;33m.\u001b[0m\u001b[0mtrials\u001b[0m\u001b[1;33m)\u001b[0m\u001b[1;33m\u001b[0m\u001b[1;33m\u001b[0m\u001b[0m\n\u001b[0m\u001b[0;32m     58\u001b[0m \u001b[1;31m# assert len(checkpoint_cb.cv_boosters) == len(tuner_cv.study.trials) - 1\u001b[0m\u001b[1;33m\u001b[0m\u001b[1;33m\u001b[0m\u001b[1;33m\u001b[0m\u001b[0m\n\u001b[0;32m     59\u001b[0m \u001b[1;33m\u001b[0m\u001b[0m\n",
      "\u001b[1;31mAssertionError\u001b[0m: "
     ]
    }
   ],
   "metadata": {}
  },
  {
   "cell_type": "code",
   "execution_count": 92,
   "source": [
    "best_params = tuner_cv.best_params\r\n",
    "best_params"
   ],
   "outputs": [],
   "metadata": {}
  },
  {
   "cell_type": "code",
   "execution_count": 93,
   "source": [
    "sub = sa['id'].to_frame()\r\n",
    "sub['visitors'] = 0\r\n",
    "\r\n",
    "X_train = train.drop('visitors_capped_log1p', axis='columns')\r\n",
    "y_train = train['visitors_capped_log1p']\r\n",
    "X_test = test.drop('visitors_capped_log1p', axis='columns')\r\n",
    "\r\n",
    "model = lgbm.LGBMRegressor(**best_params)\r\n",
    "\r\n",
    "model.fit(\r\n",
    "    X_train,\r\n",
    "    y_train,\r\n",
    "    verbose=False\r\n",
    ")\r\n",
    "\r\n",
    "sub['visitors'] = model.predict(X_test)\r\n",
    "sub['visitors'] = np.expm1(sub['visitors'])\r\n",
    "sub\r\n"
   ],
   "outputs": [
    {
     "output_type": "execute_result",
     "data": {
      "text/plain": [
       "                                    id   visitors\n",
       "0      air_00a91d42b08b08d9_2017-04-23   1.598665\n",
       "1      air_00a91d42b08b08d9_2017-04-24  18.438579\n",
       "2      air_00a91d42b08b08d9_2017-04-25  24.427006\n",
       "3      air_00a91d42b08b08d9_2017-04-26  27.418166\n",
       "4      air_00a91d42b08b08d9_2017-04-27  29.044828\n",
       "...                                ...        ...\n",
       "32014  air_fff68b929994bfbd_2017-05-27   6.497891\n",
       "32015  air_fff68b929994bfbd_2017-05-28   3.159665\n",
       "32016  air_fff68b929994bfbd_2017-05-29   3.684733\n",
       "32017  air_fff68b929994bfbd_2017-05-30   4.361639\n",
       "32018  air_fff68b929994bfbd_2017-05-31   4.315803\n",
       "\n",
       "[32019 rows x 2 columns]"
      ],
      "text/html": [
       "<div>\n",
       "<style scoped>\n",
       "    .dataframe tbody tr th:only-of-type {\n",
       "        vertical-align: middle;\n",
       "    }\n",
       "\n",
       "    .dataframe tbody tr th {\n",
       "        vertical-align: top;\n",
       "    }\n",
       "\n",
       "    .dataframe thead th {\n",
       "        text-align: right;\n",
       "    }\n",
       "</style>\n",
       "<table border=\"1\" class=\"dataframe\">\n",
       "  <thead>\n",
       "    <tr style=\"text-align: right;\">\n",
       "      <th></th>\n",
       "      <th>id</th>\n",
       "      <th>visitors</th>\n",
       "    </tr>\n",
       "  </thead>\n",
       "  <tbody>\n",
       "    <tr>\n",
       "      <th>0</th>\n",
       "      <td>air_00a91d42b08b08d9_2017-04-23</td>\n",
       "      <td>1.598665</td>\n",
       "    </tr>\n",
       "    <tr>\n",
       "      <th>1</th>\n",
       "      <td>air_00a91d42b08b08d9_2017-04-24</td>\n",
       "      <td>18.438579</td>\n",
       "    </tr>\n",
       "    <tr>\n",
       "      <th>2</th>\n",
       "      <td>air_00a91d42b08b08d9_2017-04-25</td>\n",
       "      <td>24.427006</td>\n",
       "    </tr>\n",
       "    <tr>\n",
       "      <th>3</th>\n",
       "      <td>air_00a91d42b08b08d9_2017-04-26</td>\n",
       "      <td>27.418166</td>\n",
       "    </tr>\n",
       "    <tr>\n",
       "      <th>4</th>\n",
       "      <td>air_00a91d42b08b08d9_2017-04-27</td>\n",
       "      <td>29.044828</td>\n",
       "    </tr>\n",
       "    <tr>\n",
       "      <th>...</th>\n",
       "      <td>...</td>\n",
       "      <td>...</td>\n",
       "    </tr>\n",
       "    <tr>\n",
       "      <th>32014</th>\n",
       "      <td>air_fff68b929994bfbd_2017-05-27</td>\n",
       "      <td>6.497891</td>\n",
       "    </tr>\n",
       "    <tr>\n",
       "      <th>32015</th>\n",
       "      <td>air_fff68b929994bfbd_2017-05-28</td>\n",
       "      <td>3.159665</td>\n",
       "    </tr>\n",
       "    <tr>\n",
       "      <th>32016</th>\n",
       "      <td>air_fff68b929994bfbd_2017-05-29</td>\n",
       "      <td>3.684733</td>\n",
       "    </tr>\n",
       "    <tr>\n",
       "      <th>32017</th>\n",
       "      <td>air_fff68b929994bfbd_2017-05-30</td>\n",
       "      <td>4.361639</td>\n",
       "    </tr>\n",
       "    <tr>\n",
       "      <th>32018</th>\n",
       "      <td>air_fff68b929994bfbd_2017-05-31</td>\n",
       "      <td>4.315803</td>\n",
       "    </tr>\n",
       "  </tbody>\n",
       "</table>\n",
       "<p>32019 rows × 2 columns</p>\n",
       "</div>"
      ]
     },
     "metadata": {},
     "execution_count": 93
    }
   ],
   "metadata": {}
  },
  {
   "cell_type": "code",
   "execution_count": 94,
   "source": [
    "NOW = mpre2.mk_now()\r\n",
    "NOW"
   ],
   "outputs": [
    {
     "output_type": "execute_result",
     "data": {
      "text/plain": [
       "'2021-08-15_18-46-11'"
      ]
     },
     "metadata": {},
     "execution_count": 94
    }
   ],
   "metadata": {}
  },
  {
   "cell_type": "code",
   "execution_count": 95,
   "source": [
    "# missing_values_table(sub)\r\n",
    "sub.to_csv(f'../../output/{NOW}.csv',index=False)\r\n",
    "tmp = pd.read_csv(f'../../output/{NOW}.csv')\r\n",
    "tmp"
   ],
   "outputs": [
    {
     "output_type": "execute_result",
     "data": {
      "text/plain": [
       "                                    id   visitors\n",
       "0      air_00a91d42b08b08d9_2017-04-23   1.598665\n",
       "1      air_00a91d42b08b08d9_2017-04-24  18.438579\n",
       "2      air_00a91d42b08b08d9_2017-04-25  24.427006\n",
       "3      air_00a91d42b08b08d9_2017-04-26  27.418166\n",
       "4      air_00a91d42b08b08d9_2017-04-27  29.044828\n",
       "...                                ...        ...\n",
       "32014  air_fff68b929994bfbd_2017-05-27   6.497891\n",
       "32015  air_fff68b929994bfbd_2017-05-28   3.159665\n",
       "32016  air_fff68b929994bfbd_2017-05-29   3.684733\n",
       "32017  air_fff68b929994bfbd_2017-05-30   4.361639\n",
       "32018  air_fff68b929994bfbd_2017-05-31   4.315803\n",
       "\n",
       "[32019 rows x 2 columns]"
      ],
      "text/html": [
       "<div>\n",
       "<style scoped>\n",
       "    .dataframe tbody tr th:only-of-type {\n",
       "        vertical-align: middle;\n",
       "    }\n",
       "\n",
       "    .dataframe tbody tr th {\n",
       "        vertical-align: top;\n",
       "    }\n",
       "\n",
       "    .dataframe thead th {\n",
       "        text-align: right;\n",
       "    }\n",
       "</style>\n",
       "<table border=\"1\" class=\"dataframe\">\n",
       "  <thead>\n",
       "    <tr style=\"text-align: right;\">\n",
       "      <th></th>\n",
       "      <th>id</th>\n",
       "      <th>visitors</th>\n",
       "    </tr>\n",
       "  </thead>\n",
       "  <tbody>\n",
       "    <tr>\n",
       "      <th>0</th>\n",
       "      <td>air_00a91d42b08b08d9_2017-04-23</td>\n",
       "      <td>1.598665</td>\n",
       "    </tr>\n",
       "    <tr>\n",
       "      <th>1</th>\n",
       "      <td>air_00a91d42b08b08d9_2017-04-24</td>\n",
       "      <td>18.438579</td>\n",
       "    </tr>\n",
       "    <tr>\n",
       "      <th>2</th>\n",
       "      <td>air_00a91d42b08b08d9_2017-04-25</td>\n",
       "      <td>24.427006</td>\n",
       "    </tr>\n",
       "    <tr>\n",
       "      <th>3</th>\n",
       "      <td>air_00a91d42b08b08d9_2017-04-26</td>\n",
       "      <td>27.418166</td>\n",
       "    </tr>\n",
       "    <tr>\n",
       "      <th>4</th>\n",
       "      <td>air_00a91d42b08b08d9_2017-04-27</td>\n",
       "      <td>29.044828</td>\n",
       "    </tr>\n",
       "    <tr>\n",
       "      <th>...</th>\n",
       "      <td>...</td>\n",
       "      <td>...</td>\n",
       "    </tr>\n",
       "    <tr>\n",
       "      <th>32014</th>\n",
       "      <td>air_fff68b929994bfbd_2017-05-27</td>\n",
       "      <td>6.497891</td>\n",
       "    </tr>\n",
       "    <tr>\n",
       "      <th>32015</th>\n",
       "      <td>air_fff68b929994bfbd_2017-05-28</td>\n",
       "      <td>3.159665</td>\n",
       "    </tr>\n",
       "    <tr>\n",
       "      <th>32016</th>\n",
       "      <td>air_fff68b929994bfbd_2017-05-29</td>\n",
       "      <td>3.684733</td>\n",
       "    </tr>\n",
       "    <tr>\n",
       "      <th>32017</th>\n",
       "      <td>air_fff68b929994bfbd_2017-05-30</td>\n",
       "      <td>4.361639</td>\n",
       "    </tr>\n",
       "    <tr>\n",
       "      <th>32018</th>\n",
       "      <td>air_fff68b929994bfbd_2017-05-31</td>\n",
       "      <td>4.315803</td>\n",
       "    </tr>\n",
       "  </tbody>\n",
       "</table>\n",
       "<p>32019 rows × 2 columns</p>\n",
       "</div>"
      ]
     },
     "metadata": {},
     "execution_count": 95
    }
   ],
   "metadata": {}
  },
  {
   "cell_type": "code",
   "execution_count": null,
   "source": [
    "aggregation = {'visitors' : 'median'}\r\n",
    "vagg = v.groupby(['air_store_id','dow']).agg(aggregation).reset_index()\r\n",
    "vagg"
   ],
   "outputs": [
    {
     "output_type": "execute_result",
     "data": {
      "text/plain": [
       "              air_store_id  dow  visitors\n",
       "0     air_00a91d42b08b08d9    0      19.0\n",
       "1     air_00a91d42b08b08d9    1      24.5\n",
       "2     air_00a91d42b08b08d9    2      28.0\n",
       "3     air_00a91d42b08b08d9    3      30.0\n",
       "4     air_00a91d42b08b08d9    4      35.5\n",
       "...                    ...  ...       ...\n",
       "5736  air_fff68b929994bfbd    2       4.0\n",
       "5737  air_fff68b929994bfbd    3       4.0\n",
       "5738  air_fff68b929994bfbd    4       5.0\n",
       "5739  air_fff68b929994bfbd    5       7.0\n",
       "5740  air_fff68b929994bfbd    6       3.5\n",
       "\n",
       "[5741 rows x 3 columns]"
      ],
      "text/html": [
       "<div>\n",
       "<style scoped>\n",
       "    .dataframe tbody tr th:only-of-type {\n",
       "        vertical-align: middle;\n",
       "    }\n",
       "\n",
       "    .dataframe tbody tr th {\n",
       "        vertical-align: top;\n",
       "    }\n",
       "\n",
       "    .dataframe thead th {\n",
       "        text-align: right;\n",
       "    }\n",
       "</style>\n",
       "<table border=\"1\" class=\"dataframe\">\n",
       "  <thead>\n",
       "    <tr style=\"text-align: right;\">\n",
       "      <th></th>\n",
       "      <th>air_store_id</th>\n",
       "      <th>dow</th>\n",
       "      <th>visitors</th>\n",
       "    </tr>\n",
       "  </thead>\n",
       "  <tbody>\n",
       "    <tr>\n",
       "      <th>0</th>\n",
       "      <td>air_00a91d42b08b08d9</td>\n",
       "      <td>0</td>\n",
       "      <td>19.0</td>\n",
       "    </tr>\n",
       "    <tr>\n",
       "      <th>1</th>\n",
       "      <td>air_00a91d42b08b08d9</td>\n",
       "      <td>1</td>\n",
       "      <td>24.5</td>\n",
       "    </tr>\n",
       "    <tr>\n",
       "      <th>2</th>\n",
       "      <td>air_00a91d42b08b08d9</td>\n",
       "      <td>2</td>\n",
       "      <td>28.0</td>\n",
       "    </tr>\n",
       "    <tr>\n",
       "      <th>3</th>\n",
       "      <td>air_00a91d42b08b08d9</td>\n",
       "      <td>3</td>\n",
       "      <td>30.0</td>\n",
       "    </tr>\n",
       "    <tr>\n",
       "      <th>4</th>\n",
       "      <td>air_00a91d42b08b08d9</td>\n",
       "      <td>4</td>\n",
       "      <td>35.5</td>\n",
       "    </tr>\n",
       "    <tr>\n",
       "      <th>...</th>\n",
       "      <td>...</td>\n",
       "      <td>...</td>\n",
       "      <td>...</td>\n",
       "    </tr>\n",
       "    <tr>\n",
       "      <th>5736</th>\n",
       "      <td>air_fff68b929994bfbd</td>\n",
       "      <td>2</td>\n",
       "      <td>4.0</td>\n",
       "    </tr>\n",
       "    <tr>\n",
       "      <th>5737</th>\n",
       "      <td>air_fff68b929994bfbd</td>\n",
       "      <td>3</td>\n",
       "      <td>4.0</td>\n",
       "    </tr>\n",
       "    <tr>\n",
       "      <th>5738</th>\n",
       "      <td>air_fff68b929994bfbd</td>\n",
       "      <td>4</td>\n",
       "      <td>5.0</td>\n",
       "    </tr>\n",
       "    <tr>\n",
       "      <th>5739</th>\n",
       "      <td>air_fff68b929994bfbd</td>\n",
       "      <td>5</td>\n",
       "      <td>7.0</td>\n",
       "    </tr>\n",
       "    <tr>\n",
       "      <th>5740</th>\n",
       "      <td>air_fff68b929994bfbd</td>\n",
       "      <td>6</td>\n",
       "      <td>3.5</td>\n",
       "    </tr>\n",
       "  </tbody>\n",
       "</table>\n",
       "<p>5741 rows × 3 columns</p>\n",
       "</div>"
      ]
     },
     "metadata": {},
     "execution_count": 102
    }
   ],
   "metadata": {}
  },
  {
   "cell_type": "code",
   "execution_count": null,
   "source": [
    "\r\n",
    "# submitのヘッダー情報\r\n",
    "missing_values_table(submit)"
   ],
   "outputs": [
    {
     "output_type": "stream",
     "name": "stdout",
     "text": [
      "Your selected dataframe has 2 columns.\n",
      "There are 1 columns that have missing values.\n"
     ]
    },
    {
     "output_type": "execute_result",
     "data": {
      "text/plain": [
       "          Missing Values  % of Total Values\n",
       "visitors             341                1.1"
      ],
      "text/html": [
       "<div>\n",
       "<style scoped>\n",
       "    .dataframe tbody tr th:only-of-type {\n",
       "        vertical-align: middle;\n",
       "    }\n",
       "\n",
       "    .dataframe tbody tr th {\n",
       "        vertical-align: top;\n",
       "    }\n",
       "\n",
       "    .dataframe thead th {\n",
       "        text-align: right;\n",
       "    }\n",
       "</style>\n",
       "<table border=\"1\" class=\"dataframe\">\n",
       "  <thead>\n",
       "    <tr style=\"text-align: right;\">\n",
       "      <th></th>\n",
       "      <th>Missing Values</th>\n",
       "      <th>% of Total Values</th>\n",
       "    </tr>\n",
       "  </thead>\n",
       "  <tbody>\n",
       "    <tr>\n",
       "      <th>visitors</th>\n",
       "      <td>341</td>\n",
       "      <td>1.1</td>\n",
       "    </tr>\n",
       "  </tbody>\n",
       "</table>\n",
       "</div>"
      ]
     },
     "metadata": {},
     "execution_count": 103
    }
   ],
   "metadata": {}
  },
  {
   "cell_type": "markdown",
   "source": [
    "# 検証コード"
   ],
   "metadata": {}
  },
  {
   "cell_type": "code",
   "execution_count": null,
   "source": [
    "# 売り上げが正規分布に従っているか検証、１店舗ごとにプロットすると正規分布に従うことがわかる\r\n",
    "tmp = air_visit.query(\"air_store_id == 'air_00a91d42b08b08d9'\")\r\n",
    "# tmp['visitors'].plot.hist(bins=100)\r\n",
    "# air_visit['visitors'].plot.hist(bins=100)"
   ],
   "outputs": [
    {
     "output_type": "execute_result",
     "data": {
      "text/plain": [
       "<AxesSubplot:ylabel='Frequency'>"
      ]
     },
     "metadata": {},
     "execution_count": 37
    },
    {
     "output_type": "display_data",
     "data": {
      "text/plain": [
       "<Figure size 432x288 with 1 Axes>"
      ],
      "image/svg+xml": "<?xml version=\"1.0\" encoding=\"utf-8\" standalone=\"no\"?>\r\n<!DOCTYPE svg PUBLIC \"-//W3C//DTD SVG 1.1//EN\"\r\n  \"http://www.w3.org/Graphics/SVG/1.1/DTD/svg11.dtd\">\r\n<!-- Created with matplotlib (https://matplotlib.org/) -->\r\n<svg height=\"248.518125pt\" version=\"1.1\" viewBox=\"0 0 408.053125 248.518125\" width=\"408.053125pt\" xmlns=\"http://www.w3.org/2000/svg\" xmlns:xlink=\"http://www.w3.org/1999/xlink\">\r\n <metadata>\r\n  <rdf:RDF xmlns:cc=\"http://creativecommons.org/ns#\" xmlns:dc=\"http://purl.org/dc/elements/1.1/\" xmlns:rdf=\"http://www.w3.org/1999/02/22-rdf-syntax-ns#\">\r\n   <cc:Work>\r\n    <dc:type rdf:resource=\"http://purl.org/dc/dcmitype/StillImage\"/>\r\n    <dc:date>2021-08-13T21:25:07.897736</dc:date>\r\n    <dc:format>image/svg+xml</dc:format>\r\n    <dc:creator>\r\n     <cc:Agent>\r\n      <dc:title>Matplotlib v3.3.4, https://matplotlib.org/</dc:title>\r\n     </cc:Agent>\r\n    </dc:creator>\r\n   </cc:Work>\r\n  </rdf:RDF>\r\n </metadata>\r\n <defs>\r\n  <style type=\"text/css\">*{stroke-linecap:butt;stroke-linejoin:round;}</style>\r\n </defs>\r\n <g id=\"figure_1\">\r\n  <g id=\"patch_1\">\r\n   <path d=\"M 0 248.518125 \r\nL 408.053125 248.518125 \r\nL 408.053125 0 \r\nL 0 0 \r\nz\r\n\" style=\"fill:none;\"/>\r\n  </g>\r\n  <g id=\"axes_1\">\r\n   <g id=\"patch_2\">\r\n    <path d=\"M 66.053125 224.64 \r\nL 400.853125 224.64 \r\nL 400.853125 7.2 \r\nL 66.053125 7.2 \r\nz\r\n\" style=\"fill:#ffffff;\"/>\r\n   </g>\r\n   <g id=\"patch_3\">\r\n    <path clip-path=\"url(#p9f4749255b)\" d=\"M 81.271307 224.64 \r\nL 84.314943 224.64 \r\nL 84.314943 17.554286 \r\nL 81.271307 17.554286 \r\nz\r\n\" style=\"fill:#1f77b4;\"/>\r\n   </g>\r\n   <g id=\"patch_4\">\r\n    <path clip-path=\"url(#p9f4749255b)\" d=\"M 84.314943 224.64 \r\nL 87.35858 224.64 \r\nL 87.35858 86.944388 \r\nL 84.314943 86.944388 \r\nz\r\n\" style=\"fill:#1f77b4;\"/>\r\n   </g>\r\n   <g id=\"patch_5\">\r\n    <path clip-path=\"url(#p9f4749255b)\" d=\"M 87.35858 224.64 \r\nL 90.402216 224.64 \r\nL 90.402216 126.738615 \r\nL 87.35858 126.738615 \r\nz\r\n\" style=\"fill:#1f77b4;\"/>\r\n   </g>\r\n   <g id=\"patch_6\">\r\n    <path clip-path=\"url(#p9f4749255b)\" d=\"M 90.402216 224.64 \r\nL 93.445852 224.64 \r\nL 93.445852 161.227077 \r\nL 90.402216 161.227077 \r\nz\r\n\" style=\"fill:#1f77b4;\"/>\r\n   </g>\r\n   <g id=\"patch_7\">\r\n    <path clip-path=\"url(#p9f4749255b)\" d=\"M 93.445852 224.64 \r\nL 96.489489 224.64 \r\nL 96.489489 189.660889 \r\nL 93.445852 189.660889 \r\nz\r\n\" style=\"fill:#1f77b4;\"/>\r\n   </g>\r\n   <g id=\"patch_8\">\r\n    <path clip-path=\"url(#p9f4749255b)\" d=\"M 96.489489 224.64 \r\nL 99.533125 224.64 \r\nL 99.533125 201.239811 \r\nL 96.489489 201.239811 \r\nz\r\n\" style=\"fill:#1f77b4;\"/>\r\n   </g>\r\n   <g id=\"patch_9\">\r\n    <path clip-path=\"url(#p9f4749255b)\" d=\"M 99.533125 224.64 \r\nL 102.576761 224.64 \r\nL 102.576761 212.413501 \r\nL 99.533125 212.413501 \r\nz\r\n\" style=\"fill:#1f77b4;\"/>\r\n   </g>\r\n   <g id=\"patch_10\">\r\n    <path clip-path=\"url(#p9f4749255b)\" d=\"M 102.576761 224.64 \r\nL 105.620398 224.64 \r\nL 105.620398 218.718441 \r\nL 102.576761 218.718441 \r\nz\r\n\" style=\"fill:#1f77b4;\"/>\r\n   </g>\r\n   <g id=\"patch_11\">\r\n    <path clip-path=\"url(#p9f4749255b)\" d=\"M 105.620398 224.64 \r\nL 108.664034 224.64 \r\nL 108.664034 222.180795 \r\nL 105.620398 222.180795 \r\nz\r\n\" style=\"fill:#1f77b4;\"/>\r\n   </g>\r\n   <g id=\"patch_12\">\r\n    <path clip-path=\"url(#p9f4749255b)\" d=\"M 108.664034 224.64 \r\nL 111.70767 224.64 \r\nL 111.70767 223.239564 \r\nL 108.664034 223.239564 \r\nz\r\n\" style=\"fill:#1f77b4;\"/>\r\n   </g>\r\n   <g id=\"patch_13\">\r\n    <path clip-path=\"url(#p9f4749255b)\" d=\"M 111.70767 224.64 \r\nL 114.751307 224.64 \r\nL 114.751307 223.823576 \r\nL 111.70767 223.823576 \r\nz\r\n\" style=\"fill:#1f77b4;\"/>\r\n   </g>\r\n   <g id=\"patch_14\">\r\n    <path clip-path=\"url(#p9f4749255b)\" d=\"M 114.751307 224.64 \r\nL 117.794943 224.64 \r\nL 117.794943 224.206957 \r\nL 114.751307 224.206957 \r\nz\r\n\" style=\"fill:#1f77b4;\"/>\r\n   </g>\r\n   <g id=\"patch_15\">\r\n    <path clip-path=\"url(#p9f4749255b)\" d=\"M 117.794943 224.64 \r\nL 120.83858 224.64 \r\nL 120.83858 224.359913 \r\nL 117.794943 224.359913 \r\nz\r\n\" style=\"fill:#1f77b4;\"/>\r\n   </g>\r\n   <g id=\"patch_16\">\r\n    <path clip-path=\"url(#p9f4749255b)\" d=\"M 120.83858 224.64 \r\nL 123.882216 224.64 \r\nL 123.882216 224.46718 \r\nL 120.83858 224.46718 \r\nz\r\n\" style=\"fill:#1f77b4;\"/>\r\n   </g>\r\n   <g id=\"patch_17\">\r\n    <path clip-path=\"url(#p9f4749255b)\" d=\"M 123.882216 224.64 \r\nL 126.925852 224.64 \r\nL 126.925852 224.544651 \r\nL 123.882216 224.544651 \r\nz\r\n\" style=\"fill:#1f77b4;\"/>\r\n   </g>\r\n   <g id=\"patch_18\">\r\n    <path clip-path=\"url(#p9f4749255b)\" d=\"M 126.925852 224.64 \r\nL 129.969489 224.64 \r\nL 129.969489 224.572461 \r\nL 126.925852 224.572461 \r\nz\r\n\" style=\"fill:#1f77b4;\"/>\r\n   </g>\r\n   <g id=\"patch_19\">\r\n    <path clip-path=\"url(#p9f4749255b)\" d=\"M 129.969489 224.64 \r\nL 133.013125 224.64 \r\nL 133.013125 224.604244 \r\nL 129.969489 224.604244 \r\nz\r\n\" style=\"fill:#1f77b4;\"/>\r\n   </g>\r\n   <g id=\"patch_20\">\r\n    <path clip-path=\"url(#p9f4749255b)\" d=\"M 133.013125 224.64 \r\nL 136.056761 224.64 \r\nL 136.056761 224.624109 \r\nL 133.013125 224.624109 \r\nz\r\n\" style=\"fill:#1f77b4;\"/>\r\n   </g>\r\n   <g id=\"patch_21\">\r\n    <path clip-path=\"url(#p9f4749255b)\" d=\"M 136.056761 224.64 \r\nL 139.100398 224.64 \r\nL 139.100398 224.624109 \r\nL 136.056761 224.624109 \r\nz\r\n\" style=\"fill:#1f77b4;\"/>\r\n   </g>\r\n   <g id=\"patch_22\">\r\n    <path clip-path=\"url(#p9f4749255b)\" d=\"M 139.100398 224.64 \r\nL 142.144034 224.64 \r\nL 142.144034 224.618149 \r\nL 139.100398 224.618149 \r\nz\r\n\" style=\"fill:#1f77b4;\"/>\r\n   </g>\r\n   <g id=\"patch_23\">\r\n    <path clip-path=\"url(#p9f4749255b)\" d=\"M 142.144034 224.64 \r\nL 145.18767 224.64 \r\nL 145.18767 224.620136 \r\nL 142.144034 224.620136 \r\nz\r\n\" style=\"fill:#1f77b4;\"/>\r\n   </g>\r\n   <g id=\"patch_24\">\r\n    <path clip-path=\"url(#p9f4749255b)\" d=\"M 145.18767 224.64 \r\nL 148.231307 224.64 \r\nL 148.231307 224.636027 \r\nL 145.18767 224.636027 \r\nz\r\n\" style=\"fill:#1f77b4;\"/>\r\n   </g>\r\n   <g id=\"patch_25\">\r\n    <path clip-path=\"url(#p9f4749255b)\" d=\"M 148.231307 224.64 \r\nL 151.274943 224.64 \r\nL 151.274943 224.636027 \r\nL 148.231307 224.636027 \r\nz\r\n\" style=\"fill:#1f77b4;\"/>\r\n   </g>\r\n   <g id=\"patch_26\">\r\n    <path clip-path=\"url(#p9f4749255b)\" d=\"M 151.274943 224.64 \r\nL 154.31858 224.64 \r\nL 154.31858 224.630068 \r\nL 151.274943 224.630068 \r\nz\r\n\" style=\"fill:#1f77b4;\"/>\r\n   </g>\r\n   <g id=\"patch_27\">\r\n    <path clip-path=\"url(#p9f4749255b)\" d=\"M 154.31858 224.64 \r\nL 157.362216 224.64 \r\nL 157.362216 224.632054 \r\nL 154.31858 224.632054 \r\nz\r\n\" style=\"fill:#1f77b4;\"/>\r\n   </g>\r\n   <g id=\"patch_28\">\r\n    <path clip-path=\"url(#p9f4749255b)\" d=\"M 157.362216 224.64 \r\nL 160.405852 224.64 \r\nL 160.405852 224.634041 \r\nL 157.362216 224.634041 \r\nz\r\n\" style=\"fill:#1f77b4;\"/>\r\n   </g>\r\n   <g id=\"patch_29\">\r\n    <path clip-path=\"url(#p9f4749255b)\" d=\"M 160.405852 224.64 \r\nL 163.449489 224.64 \r\nL 163.449489 224.636027 \r\nL 160.405852 224.636027 \r\nz\r\n\" style=\"fill:#1f77b4;\"/>\r\n   </g>\r\n   <g id=\"patch_30\">\r\n    <path clip-path=\"url(#p9f4749255b)\" d=\"M 163.449489 224.64 \r\nL 166.493125 224.64 \r\nL 166.493125 224.634041 \r\nL 163.449489 224.634041 \r\nz\r\n\" style=\"fill:#1f77b4;\"/>\r\n   </g>\r\n   <g id=\"patch_31\">\r\n    <path clip-path=\"url(#p9f4749255b)\" d=\"M 166.493125 224.64 \r\nL 169.536761 224.64 \r\nL 169.536761 224.638014 \r\nL 166.493125 224.638014 \r\nz\r\n\" style=\"fill:#1f77b4;\"/>\r\n   </g>\r\n   <g id=\"patch_32\">\r\n    <path clip-path=\"url(#p9f4749255b)\" d=\"M 169.536761 224.64 \r\nL 172.580398 224.64 \r\nL 172.580398 224.636027 \r\nL 169.536761 224.636027 \r\nz\r\n\" style=\"fill:#1f77b4;\"/>\r\n   </g>\r\n   <g id=\"patch_33\">\r\n    <path clip-path=\"url(#p9f4749255b)\" d=\"M 172.580398 224.64 \r\nL 175.624034 224.64 \r\nL 175.624034 224.638014 \r\nL 172.580398 224.638014 \r\nz\r\n\" style=\"fill:#1f77b4;\"/>\r\n   </g>\r\n   <g id=\"patch_34\">\r\n    <path clip-path=\"url(#p9f4749255b)\" d=\"M 175.624034 224.64 \r\nL 178.66767 224.64 \r\nL 178.66767 224.64 \r\nL 175.624034 224.64 \r\nz\r\n\" style=\"fill:#1f77b4;\"/>\r\n   </g>\r\n   <g id=\"patch_35\">\r\n    <path clip-path=\"url(#p9f4749255b)\" d=\"M 178.66767 224.64 \r\nL 181.711307 224.64 \r\nL 181.711307 224.64 \r\nL 178.66767 224.64 \r\nz\r\n\" style=\"fill:#1f77b4;\"/>\r\n   </g>\r\n   <g id=\"patch_36\">\r\n    <path clip-path=\"url(#p9f4749255b)\" d=\"M 181.711307 224.64 \r\nL 184.754943 224.64 \r\nL 184.754943 224.64 \r\nL 181.711307 224.64 \r\nz\r\n\" style=\"fill:#1f77b4;\"/>\r\n   </g>\r\n   <g id=\"patch_37\">\r\n    <path clip-path=\"url(#p9f4749255b)\" d=\"M 184.754943 224.64 \r\nL 187.79858 224.64 \r\nL 187.79858 224.638014 \r\nL 184.754943 224.638014 \r\nz\r\n\" style=\"fill:#1f77b4;\"/>\r\n   </g>\r\n   <g id=\"patch_38\">\r\n    <path clip-path=\"url(#p9f4749255b)\" d=\"M 187.79858 224.64 \r\nL 190.842216 224.64 \r\nL 190.842216 224.638014 \r\nL 187.79858 224.638014 \r\nz\r\n\" style=\"fill:#1f77b4;\"/>\r\n   </g>\r\n   <g id=\"patch_39\">\r\n    <path clip-path=\"url(#p9f4749255b)\" d=\"M 190.842216 224.64 \r\nL 193.885852 224.64 \r\nL 193.885852 224.64 \r\nL 190.842216 224.64 \r\nz\r\n\" style=\"fill:#1f77b4;\"/>\r\n   </g>\r\n   <g id=\"patch_40\">\r\n    <path clip-path=\"url(#p9f4749255b)\" d=\"M 193.885852 224.64 \r\nL 196.929489 224.64 \r\nL 196.929489 224.634041 \r\nL 193.885852 224.634041 \r\nz\r\n\" style=\"fill:#1f77b4;\"/>\r\n   </g>\r\n   <g id=\"patch_41\">\r\n    <path clip-path=\"url(#p9f4749255b)\" d=\"M 196.929489 224.64 \r\nL 199.973125 224.64 \r\nL 199.973125 224.638014 \r\nL 196.929489 224.638014 \r\nz\r\n\" style=\"fill:#1f77b4;\"/>\r\n   </g>\r\n   <g id=\"patch_42\">\r\n    <path clip-path=\"url(#p9f4749255b)\" d=\"M 199.973125 224.64 \r\nL 203.016761 224.64 \r\nL 203.016761 224.638014 \r\nL 199.973125 224.638014 \r\nz\r\n\" style=\"fill:#1f77b4;\"/>\r\n   </g>\r\n   <g id=\"patch_43\">\r\n    <path clip-path=\"url(#p9f4749255b)\" d=\"M 203.016761 224.64 \r\nL 206.060398 224.64 \r\nL 206.060398 224.638014 \r\nL 203.016761 224.638014 \r\nz\r\n\" style=\"fill:#1f77b4;\"/>\r\n   </g>\r\n   <g id=\"patch_44\">\r\n    <path clip-path=\"url(#p9f4749255b)\" d=\"M 206.060398 224.64 \r\nL 209.104034 224.64 \r\nL 209.104034 224.64 \r\nL 206.060398 224.64 \r\nz\r\n\" style=\"fill:#1f77b4;\"/>\r\n   </g>\r\n   <g id=\"patch_45\">\r\n    <path clip-path=\"url(#p9f4749255b)\" d=\"M 209.104034 224.64 \r\nL 212.14767 224.64 \r\nL 212.14767 224.636027 \r\nL 209.104034 224.636027 \r\nz\r\n\" style=\"fill:#1f77b4;\"/>\r\n   </g>\r\n   <g id=\"patch_46\">\r\n    <path clip-path=\"url(#p9f4749255b)\" d=\"M 212.14767 224.64 \r\nL 215.191307 224.64 \r\nL 215.191307 224.64 \r\nL 212.14767 224.64 \r\nz\r\n\" style=\"fill:#1f77b4;\"/>\r\n   </g>\r\n   <g id=\"patch_47\">\r\n    <path clip-path=\"url(#p9f4749255b)\" d=\"M 215.191307 224.64 \r\nL 218.234943 224.64 \r\nL 218.234943 224.64 \r\nL 215.191307 224.64 \r\nz\r\n\" style=\"fill:#1f77b4;\"/>\r\n   </g>\r\n   <g id=\"patch_48\">\r\n    <path clip-path=\"url(#p9f4749255b)\" d=\"M 218.234943 224.64 \r\nL 221.27858 224.64 \r\nL 221.27858 224.64 \r\nL 218.234943 224.64 \r\nz\r\n\" style=\"fill:#1f77b4;\"/>\r\n   </g>\r\n   <g id=\"patch_49\">\r\n    <path clip-path=\"url(#p9f4749255b)\" d=\"M 221.27858 224.64 \r\nL 224.322216 224.64 \r\nL 224.322216 224.638014 \r\nL 221.27858 224.638014 \r\nz\r\n\" style=\"fill:#1f77b4;\"/>\r\n   </g>\r\n   <g id=\"patch_50\">\r\n    <path clip-path=\"url(#p9f4749255b)\" d=\"M 224.322216 224.64 \r\nL 227.365852 224.64 \r\nL 227.365852 224.64 \r\nL 224.322216 224.64 \r\nz\r\n\" style=\"fill:#1f77b4;\"/>\r\n   </g>\r\n   <g id=\"patch_51\">\r\n    <path clip-path=\"url(#p9f4749255b)\" d=\"M 227.365852 224.64 \r\nL 230.409489 224.64 \r\nL 230.409489 224.64 \r\nL 227.365852 224.64 \r\nz\r\n\" style=\"fill:#1f77b4;\"/>\r\n   </g>\r\n   <g id=\"patch_52\">\r\n    <path clip-path=\"url(#p9f4749255b)\" d=\"M 230.409489 224.64 \r\nL 233.453125 224.64 \r\nL 233.453125 224.64 \r\nL 230.409489 224.64 \r\nz\r\n\" style=\"fill:#1f77b4;\"/>\r\n   </g>\r\n   <g id=\"patch_53\">\r\n    <path clip-path=\"url(#p9f4749255b)\" d=\"M 233.453125 224.64 \r\nL 236.496761 224.64 \r\nL 236.496761 224.64 \r\nL 233.453125 224.64 \r\nz\r\n\" style=\"fill:#1f77b4;\"/>\r\n   </g>\r\n   <g id=\"patch_54\">\r\n    <path clip-path=\"url(#p9f4749255b)\" d=\"M 236.496761 224.64 \r\nL 239.540398 224.64 \r\nL 239.540398 224.64 \r\nL 236.496761 224.64 \r\nz\r\n\" style=\"fill:#1f77b4;\"/>\r\n   </g>\r\n   <g id=\"patch_55\">\r\n    <path clip-path=\"url(#p9f4749255b)\" d=\"M 239.540398 224.64 \r\nL 242.584034 224.64 \r\nL 242.584034 224.64 \r\nL 239.540398 224.64 \r\nz\r\n\" style=\"fill:#1f77b4;\"/>\r\n   </g>\r\n   <g id=\"patch_56\">\r\n    <path clip-path=\"url(#p9f4749255b)\" d=\"M 242.584034 224.64 \r\nL 245.62767 224.64 \r\nL 245.62767 224.64 \r\nL 242.584034 224.64 \r\nz\r\n\" style=\"fill:#1f77b4;\"/>\r\n   </g>\r\n   <g id=\"patch_57\">\r\n    <path clip-path=\"url(#p9f4749255b)\" d=\"M 245.62767 224.64 \r\nL 248.671307 224.64 \r\nL 248.671307 224.64 \r\nL 245.62767 224.64 \r\nz\r\n\" style=\"fill:#1f77b4;\"/>\r\n   </g>\r\n   <g id=\"patch_58\">\r\n    <path clip-path=\"url(#p9f4749255b)\" d=\"M 248.671307 224.64 \r\nL 251.714943 224.64 \r\nL 251.714943 224.64 \r\nL 248.671307 224.64 \r\nz\r\n\" style=\"fill:#1f77b4;\"/>\r\n   </g>\r\n   <g id=\"patch_59\">\r\n    <path clip-path=\"url(#p9f4749255b)\" d=\"M 251.714943 224.64 \r\nL 254.75858 224.64 \r\nL 254.75858 224.64 \r\nL 251.714943 224.64 \r\nz\r\n\" style=\"fill:#1f77b4;\"/>\r\n   </g>\r\n   <g id=\"patch_60\">\r\n    <path clip-path=\"url(#p9f4749255b)\" d=\"M 254.75858 224.64 \r\nL 257.802216 224.64 \r\nL 257.802216 224.64 \r\nL 254.75858 224.64 \r\nz\r\n\" style=\"fill:#1f77b4;\"/>\r\n   </g>\r\n   <g id=\"patch_61\">\r\n    <path clip-path=\"url(#p9f4749255b)\" d=\"M 257.802216 224.64 \r\nL 260.845852 224.64 \r\nL 260.845852 224.638014 \r\nL 257.802216 224.638014 \r\nz\r\n\" style=\"fill:#1f77b4;\"/>\r\n   </g>\r\n   <g id=\"patch_62\">\r\n    <path clip-path=\"url(#p9f4749255b)\" d=\"M 260.845852 224.64 \r\nL 263.889489 224.64 \r\nL 263.889489 224.64 \r\nL 260.845852 224.64 \r\nz\r\n\" style=\"fill:#1f77b4;\"/>\r\n   </g>\r\n   <g id=\"patch_63\">\r\n    <path clip-path=\"url(#p9f4749255b)\" d=\"M 263.889489 224.64 \r\nL 266.933125 224.64 \r\nL 266.933125 224.64 \r\nL 263.889489 224.64 \r\nz\r\n\" style=\"fill:#1f77b4;\"/>\r\n   </g>\r\n   <g id=\"patch_64\">\r\n    <path clip-path=\"url(#p9f4749255b)\" d=\"M 266.933125 224.64 \r\nL 269.976761 224.64 \r\nL 269.976761 224.64 \r\nL 266.933125 224.64 \r\nz\r\n\" style=\"fill:#1f77b4;\"/>\r\n   </g>\r\n   <g id=\"patch_65\">\r\n    <path clip-path=\"url(#p9f4749255b)\" d=\"M 269.976761 224.64 \r\nL 273.020398 224.64 \r\nL 273.020398 224.64 \r\nL 269.976761 224.64 \r\nz\r\n\" style=\"fill:#1f77b4;\"/>\r\n   </g>\r\n   <g id=\"patch_66\">\r\n    <path clip-path=\"url(#p9f4749255b)\" d=\"M 273.020398 224.64 \r\nL 276.064034 224.64 \r\nL 276.064034 224.64 \r\nL 273.020398 224.64 \r\nz\r\n\" style=\"fill:#1f77b4;\"/>\r\n   </g>\r\n   <g id=\"patch_67\">\r\n    <path clip-path=\"url(#p9f4749255b)\" d=\"M 276.064034 224.64 \r\nL 279.10767 224.64 \r\nL 279.10767 224.64 \r\nL 276.064034 224.64 \r\nz\r\n\" style=\"fill:#1f77b4;\"/>\r\n   </g>\r\n   <g id=\"patch_68\">\r\n    <path clip-path=\"url(#p9f4749255b)\" d=\"M 279.10767 224.64 \r\nL 282.151307 224.64 \r\nL 282.151307 224.64 \r\nL 279.10767 224.64 \r\nz\r\n\" style=\"fill:#1f77b4;\"/>\r\n   </g>\r\n   <g id=\"patch_69\">\r\n    <path clip-path=\"url(#p9f4749255b)\" d=\"M 282.151307 224.64 \r\nL 285.194943 224.64 \r\nL 285.194943 224.64 \r\nL 282.151307 224.64 \r\nz\r\n\" style=\"fill:#1f77b4;\"/>\r\n   </g>\r\n   <g id=\"patch_70\">\r\n    <path clip-path=\"url(#p9f4749255b)\" d=\"M 285.194943 224.64 \r\nL 288.23858 224.64 \r\nL 288.23858 224.64 \r\nL 285.194943 224.64 \r\nz\r\n\" style=\"fill:#1f77b4;\"/>\r\n   </g>\r\n   <g id=\"patch_71\">\r\n    <path clip-path=\"url(#p9f4749255b)\" d=\"M 288.23858 224.64 \r\nL 291.282216 224.64 \r\nL 291.282216 224.64 \r\nL 288.23858 224.64 \r\nz\r\n\" style=\"fill:#1f77b4;\"/>\r\n   </g>\r\n   <g id=\"patch_72\">\r\n    <path clip-path=\"url(#p9f4749255b)\" d=\"M 291.282216 224.64 \r\nL 294.325852 224.64 \r\nL 294.325852 224.64 \r\nL 291.282216 224.64 \r\nz\r\n\" style=\"fill:#1f77b4;\"/>\r\n   </g>\r\n   <g id=\"patch_73\">\r\n    <path clip-path=\"url(#p9f4749255b)\" d=\"M 294.325852 224.64 \r\nL 297.369489 224.64 \r\nL 297.369489 224.64 \r\nL 294.325852 224.64 \r\nz\r\n\" style=\"fill:#1f77b4;\"/>\r\n   </g>\r\n   <g id=\"patch_74\">\r\n    <path clip-path=\"url(#p9f4749255b)\" d=\"M 297.369489 224.64 \r\nL 300.413125 224.64 \r\nL 300.413125 224.638014 \r\nL 297.369489 224.638014 \r\nz\r\n\" style=\"fill:#1f77b4;\"/>\r\n   </g>\r\n   <g id=\"patch_75\">\r\n    <path clip-path=\"url(#p9f4749255b)\" d=\"M 300.413125 224.64 \r\nL 303.456761 224.64 \r\nL 303.456761 224.64 \r\nL 300.413125 224.64 \r\nz\r\n\" style=\"fill:#1f77b4;\"/>\r\n   </g>\r\n   <g id=\"patch_76\">\r\n    <path clip-path=\"url(#p9f4749255b)\" d=\"M 303.456761 224.64 \r\nL 306.500398 224.64 \r\nL 306.500398 224.64 \r\nL 303.456761 224.64 \r\nz\r\n\" style=\"fill:#1f77b4;\"/>\r\n   </g>\r\n   <g id=\"patch_77\">\r\n    <path clip-path=\"url(#p9f4749255b)\" d=\"M 306.500398 224.64 \r\nL 309.544034 224.64 \r\nL 309.544034 224.64 \r\nL 306.500398 224.64 \r\nz\r\n\" style=\"fill:#1f77b4;\"/>\r\n   </g>\r\n   <g id=\"patch_78\">\r\n    <path clip-path=\"url(#p9f4749255b)\" d=\"M 309.544034 224.64 \r\nL 312.58767 224.64 \r\nL 312.58767 224.64 \r\nL 309.544034 224.64 \r\nz\r\n\" style=\"fill:#1f77b4;\"/>\r\n   </g>\r\n   <g id=\"patch_79\">\r\n    <path clip-path=\"url(#p9f4749255b)\" d=\"M 312.58767 224.64 \r\nL 315.631307 224.64 \r\nL 315.631307 224.638014 \r\nL 312.58767 224.638014 \r\nz\r\n\" style=\"fill:#1f77b4;\"/>\r\n   </g>\r\n   <g id=\"patch_80\">\r\n    <path clip-path=\"url(#p9f4749255b)\" d=\"M 315.631307 224.64 \r\nL 318.674943 224.64 \r\nL 318.674943 224.64 \r\nL 315.631307 224.64 \r\nz\r\n\" style=\"fill:#1f77b4;\"/>\r\n   </g>\r\n   <g id=\"patch_81\">\r\n    <path clip-path=\"url(#p9f4749255b)\" d=\"M 318.674943 224.64 \r\nL 321.71858 224.64 \r\nL 321.71858 224.64 \r\nL 318.674943 224.64 \r\nz\r\n\" style=\"fill:#1f77b4;\"/>\r\n   </g>\r\n   <g id=\"patch_82\">\r\n    <path clip-path=\"url(#p9f4749255b)\" d=\"M 321.71858 224.64 \r\nL 324.762216 224.64 \r\nL 324.762216 224.64 \r\nL 321.71858 224.64 \r\nz\r\n\" style=\"fill:#1f77b4;\"/>\r\n   </g>\r\n   <g id=\"patch_83\">\r\n    <path clip-path=\"url(#p9f4749255b)\" d=\"M 324.762216 224.64 \r\nL 327.805852 224.64 \r\nL 327.805852 224.64 \r\nL 324.762216 224.64 \r\nz\r\n\" style=\"fill:#1f77b4;\"/>\r\n   </g>\r\n   <g id=\"patch_84\">\r\n    <path clip-path=\"url(#p9f4749255b)\" d=\"M 327.805852 224.64 \r\nL 330.849489 224.64 \r\nL 330.849489 224.64 \r\nL 327.805852 224.64 \r\nz\r\n\" style=\"fill:#1f77b4;\"/>\r\n   </g>\r\n   <g id=\"patch_85\">\r\n    <path clip-path=\"url(#p9f4749255b)\" d=\"M 330.849489 224.64 \r\nL 333.893125 224.64 \r\nL 333.893125 224.64 \r\nL 330.849489 224.64 \r\nz\r\n\" style=\"fill:#1f77b4;\"/>\r\n   </g>\r\n   <g id=\"patch_86\">\r\n    <path clip-path=\"url(#p9f4749255b)\" d=\"M 333.893125 224.64 \r\nL 336.936761 224.64 \r\nL 336.936761 224.64 \r\nL 333.893125 224.64 \r\nz\r\n\" style=\"fill:#1f77b4;\"/>\r\n   </g>\r\n   <g id=\"patch_87\">\r\n    <path clip-path=\"url(#p9f4749255b)\" d=\"M 336.936761 224.64 \r\nL 339.980398 224.64 \r\nL 339.980398 224.64 \r\nL 336.936761 224.64 \r\nz\r\n\" style=\"fill:#1f77b4;\"/>\r\n   </g>\r\n   <g id=\"patch_88\">\r\n    <path clip-path=\"url(#p9f4749255b)\" d=\"M 339.980398 224.64 \r\nL 343.024034 224.64 \r\nL 343.024034 224.64 \r\nL 339.980398 224.64 \r\nz\r\n\" style=\"fill:#1f77b4;\"/>\r\n   </g>\r\n   <g id=\"patch_89\">\r\n    <path clip-path=\"url(#p9f4749255b)\" d=\"M 343.024034 224.64 \r\nL 346.06767 224.64 \r\nL 346.06767 224.64 \r\nL 343.024034 224.64 \r\nz\r\n\" style=\"fill:#1f77b4;\"/>\r\n   </g>\r\n   <g id=\"patch_90\">\r\n    <path clip-path=\"url(#p9f4749255b)\" d=\"M 346.06767 224.64 \r\nL 349.111307 224.64 \r\nL 349.111307 224.64 \r\nL 346.06767 224.64 \r\nz\r\n\" style=\"fill:#1f77b4;\"/>\r\n   </g>\r\n   <g id=\"patch_91\">\r\n    <path clip-path=\"url(#p9f4749255b)\" d=\"M 349.111307 224.64 \r\nL 352.154943 224.64 \r\nL 352.154943 224.638014 \r\nL 349.111307 224.638014 \r\nz\r\n\" style=\"fill:#1f77b4;\"/>\r\n   </g>\r\n   <g id=\"patch_92\">\r\n    <path clip-path=\"url(#p9f4749255b)\" d=\"M 352.154943 224.64 \r\nL 355.19858 224.64 \r\nL 355.19858 224.64 \r\nL 352.154943 224.64 \r\nz\r\n\" style=\"fill:#1f77b4;\"/>\r\n   </g>\r\n   <g id=\"patch_93\">\r\n    <path clip-path=\"url(#p9f4749255b)\" d=\"M 355.19858 224.64 \r\nL 358.242216 224.64 \r\nL 358.242216 224.64 \r\nL 355.19858 224.64 \r\nz\r\n\" style=\"fill:#1f77b4;\"/>\r\n   </g>\r\n   <g id=\"patch_94\">\r\n    <path clip-path=\"url(#p9f4749255b)\" d=\"M 358.242216 224.64 \r\nL 361.285852 224.64 \r\nL 361.285852 224.64 \r\nL 358.242216 224.64 \r\nz\r\n\" style=\"fill:#1f77b4;\"/>\r\n   </g>\r\n   <g id=\"patch_95\">\r\n    <path clip-path=\"url(#p9f4749255b)\" d=\"M 361.285852 224.64 \r\nL 364.329489 224.64 \r\nL 364.329489 224.64 \r\nL 361.285852 224.64 \r\nz\r\n\" style=\"fill:#1f77b4;\"/>\r\n   </g>\r\n   <g id=\"patch_96\">\r\n    <path clip-path=\"url(#p9f4749255b)\" d=\"M 364.329489 224.64 \r\nL 367.373125 224.64 \r\nL 367.373125 224.64 \r\nL 364.329489 224.64 \r\nz\r\n\" style=\"fill:#1f77b4;\"/>\r\n   </g>\r\n   <g id=\"patch_97\">\r\n    <path clip-path=\"url(#p9f4749255b)\" d=\"M 367.373125 224.64 \r\nL 370.416761 224.64 \r\nL 370.416761 224.64 \r\nL 367.373125 224.64 \r\nz\r\n\" style=\"fill:#1f77b4;\"/>\r\n   </g>\r\n   <g id=\"patch_98\">\r\n    <path clip-path=\"url(#p9f4749255b)\" d=\"M 370.416761 224.64 \r\nL 373.460398 224.64 \r\nL 373.460398 224.64 \r\nL 370.416761 224.64 \r\nz\r\n\" style=\"fill:#1f77b4;\"/>\r\n   </g>\r\n   <g id=\"patch_99\">\r\n    <path clip-path=\"url(#p9f4749255b)\" d=\"M 373.460398 224.64 \r\nL 376.504034 224.64 \r\nL 376.504034 224.64 \r\nL 373.460398 224.64 \r\nz\r\n\" style=\"fill:#1f77b4;\"/>\r\n   </g>\r\n   <g id=\"patch_100\">\r\n    <path clip-path=\"url(#p9f4749255b)\" d=\"M 376.504034 224.64 \r\nL 379.54767 224.64 \r\nL 379.54767 224.64 \r\nL 376.504034 224.64 \r\nz\r\n\" style=\"fill:#1f77b4;\"/>\r\n   </g>\r\n   <g id=\"patch_101\">\r\n    <path clip-path=\"url(#p9f4749255b)\" d=\"M 379.54767 224.64 \r\nL 382.591307 224.64 \r\nL 382.591307 224.64 \r\nL 379.54767 224.64 \r\nz\r\n\" style=\"fill:#1f77b4;\"/>\r\n   </g>\r\n   <g id=\"patch_102\">\r\n    <path clip-path=\"url(#p9f4749255b)\" d=\"M 382.591307 224.64 \r\nL 385.634943 224.64 \r\nL 385.634943 224.638014 \r\nL 382.591307 224.638014 \r\nz\r\n\" style=\"fill:#1f77b4;\"/>\r\n   </g>\r\n   <g id=\"matplotlib.axis_1\">\r\n    <g id=\"xtick_1\">\r\n     <g id=\"line2d_1\">\r\n      <defs>\r\n       <path d=\"M 0 0 \r\nL 0 3.5 \r\n\" id=\"m55a182a623\" style=\"stroke:#000000;stroke-width:0.8;\"/>\r\n      </defs>\r\n      <g>\r\n       <use style=\"stroke:#000000;stroke-width:0.8;\" x=\"81.271307\" xlink:href=\"#m55a182a623\" y=\"224.64\"/>\r\n      </g>\r\n     </g>\r\n     <g id=\"text_1\">\r\n      <!-- 0 -->\r\n      <g transform=\"translate(78.090057 239.238437)scale(0.1 -0.1)\">\r\n       <defs>\r\n        <path d=\"M 31.78125 66.40625 \r\nQ 24.171875 66.40625 20.328125 58.90625 \r\nQ 16.5 51.421875 16.5 36.375 \r\nQ 16.5 21.390625 20.328125 13.890625 \r\nQ 24.171875 6.390625 31.78125 6.390625 \r\nQ 39.453125 6.390625 43.28125 13.890625 \r\nQ 47.125 21.390625 47.125 36.375 \r\nQ 47.125 51.421875 43.28125 58.90625 \r\nQ 39.453125 66.40625 31.78125 66.40625 \r\nz\r\nM 31.78125 74.21875 \r\nQ 44.046875 74.21875 50.515625 64.515625 \r\nQ 56.984375 54.828125 56.984375 36.375 \r\nQ 56.984375 17.96875 50.515625 8.265625 \r\nQ 44.046875 -1.421875 31.78125 -1.421875 \r\nQ 19.53125 -1.421875 13.0625 8.265625 \r\nQ 6.59375 17.96875 6.59375 36.375 \r\nQ 6.59375 54.828125 13.0625 64.515625 \r\nQ 19.53125 74.21875 31.78125 74.21875 \r\nz\r\n\" id=\"DejaVuSans-48\"/>\r\n       </defs>\r\n       <use xlink:href=\"#DejaVuSans-48\"/>\r\n      </g>\r\n     </g>\r\n    </g>\r\n    <g id=\"xtick_2\">\r\n     <g id=\"line2d_2\">\r\n      <g>\r\n       <use style=\"stroke:#000000;stroke-width:0.8;\" x=\"150.681486\" xlink:href=\"#m55a182a623\" y=\"224.64\"/>\r\n      </g>\r\n     </g>\r\n     <g id=\"text_2\">\r\n      <!-- 200 -->\r\n      <g transform=\"translate(141.137736 239.238437)scale(0.1 -0.1)\">\r\n       <defs>\r\n        <path d=\"M 19.1875 8.296875 \r\nL 53.609375 8.296875 \r\nL 53.609375 0 \r\nL 7.328125 0 \r\nL 7.328125 8.296875 \r\nQ 12.9375 14.109375 22.625 23.890625 \r\nQ 32.328125 33.6875 34.8125 36.53125 \r\nQ 39.546875 41.84375 41.421875 45.53125 \r\nQ 43.3125 49.21875 43.3125 52.78125 \r\nQ 43.3125 58.59375 39.234375 62.25 \r\nQ 35.15625 65.921875 28.609375 65.921875 \r\nQ 23.96875 65.921875 18.8125 64.3125 \r\nQ 13.671875 62.703125 7.8125 59.421875 \r\nL 7.8125 69.390625 \r\nQ 13.765625 71.78125 18.9375 73 \r\nQ 24.125 74.21875 28.421875 74.21875 \r\nQ 39.75 74.21875 46.484375 68.546875 \r\nQ 53.21875 62.890625 53.21875 53.421875 \r\nQ 53.21875 48.921875 51.53125 44.890625 \r\nQ 49.859375 40.875 45.40625 35.40625 \r\nQ 44.1875 33.984375 37.640625 27.21875 \r\nQ 31.109375 20.453125 19.1875 8.296875 \r\nz\r\n\" id=\"DejaVuSans-50\"/>\r\n       </defs>\r\n       <use xlink:href=\"#DejaVuSans-50\"/>\r\n       <use x=\"63.623047\" xlink:href=\"#DejaVuSans-48\"/>\r\n       <use x=\"127.246094\" xlink:href=\"#DejaVuSans-48\"/>\r\n      </g>\r\n     </g>\r\n    </g>\r\n    <g id=\"xtick_3\">\r\n     <g id=\"line2d_3\">\r\n      <g>\r\n       <use style=\"stroke:#000000;stroke-width:0.8;\" x=\"220.091665\" xlink:href=\"#m55a182a623\" y=\"224.64\"/>\r\n      </g>\r\n     </g>\r\n     <g id=\"text_3\">\r\n      <!-- 400 -->\r\n      <g transform=\"translate(210.547915 239.238437)scale(0.1 -0.1)\">\r\n       <defs>\r\n        <path d=\"M 37.796875 64.3125 \r\nL 12.890625 25.390625 \r\nL 37.796875 25.390625 \r\nz\r\nM 35.203125 72.90625 \r\nL 47.609375 72.90625 \r\nL 47.609375 25.390625 \r\nL 58.015625 25.390625 \r\nL 58.015625 17.1875 \r\nL 47.609375 17.1875 \r\nL 47.609375 0 \r\nL 37.796875 0 \r\nL 37.796875 17.1875 \r\nL 4.890625 17.1875 \r\nL 4.890625 26.703125 \r\nz\r\n\" id=\"DejaVuSans-52\"/>\r\n       </defs>\r\n       <use xlink:href=\"#DejaVuSans-52\"/>\r\n       <use x=\"63.623047\" xlink:href=\"#DejaVuSans-48\"/>\r\n       <use x=\"127.246094\" xlink:href=\"#DejaVuSans-48\"/>\r\n      </g>\r\n     </g>\r\n    </g>\r\n    <g id=\"xtick_4\">\r\n     <g id=\"line2d_4\">\r\n      <g>\r\n       <use style=\"stroke:#000000;stroke-width:0.8;\" x=\"289.501845\" xlink:href=\"#m55a182a623\" y=\"224.64\"/>\r\n      </g>\r\n     </g>\r\n     <g id=\"text_4\">\r\n      <!-- 600 -->\r\n      <g transform=\"translate(279.958095 239.238437)scale(0.1 -0.1)\">\r\n       <defs>\r\n        <path d=\"M 33.015625 40.375 \r\nQ 26.375 40.375 22.484375 35.828125 \r\nQ 18.609375 31.296875 18.609375 23.390625 \r\nQ 18.609375 15.53125 22.484375 10.953125 \r\nQ 26.375 6.390625 33.015625 6.390625 \r\nQ 39.65625 6.390625 43.53125 10.953125 \r\nQ 47.40625 15.53125 47.40625 23.390625 \r\nQ 47.40625 31.296875 43.53125 35.828125 \r\nQ 39.65625 40.375 33.015625 40.375 \r\nz\r\nM 52.59375 71.296875 \r\nL 52.59375 62.3125 \r\nQ 48.875 64.0625 45.09375 64.984375 \r\nQ 41.3125 65.921875 37.59375 65.921875 \r\nQ 27.828125 65.921875 22.671875 59.328125 \r\nQ 17.53125 52.734375 16.796875 39.40625 \r\nQ 19.671875 43.65625 24.015625 45.921875 \r\nQ 28.375 48.1875 33.59375 48.1875 \r\nQ 44.578125 48.1875 50.953125 41.515625 \r\nQ 57.328125 34.859375 57.328125 23.390625 \r\nQ 57.328125 12.15625 50.6875 5.359375 \r\nQ 44.046875 -1.421875 33.015625 -1.421875 \r\nQ 20.359375 -1.421875 13.671875 8.265625 \r\nQ 6.984375 17.96875 6.984375 36.375 \r\nQ 6.984375 53.65625 15.1875 63.9375 \r\nQ 23.390625 74.21875 37.203125 74.21875 \r\nQ 40.921875 74.21875 44.703125 73.484375 \r\nQ 48.484375 72.75 52.59375 71.296875 \r\nz\r\n\" id=\"DejaVuSans-54\"/>\r\n       </defs>\r\n       <use xlink:href=\"#DejaVuSans-54\"/>\r\n       <use x=\"63.623047\" xlink:href=\"#DejaVuSans-48\"/>\r\n       <use x=\"127.246094\" xlink:href=\"#DejaVuSans-48\"/>\r\n      </g>\r\n     </g>\r\n    </g>\r\n    <g id=\"xtick_5\">\r\n     <g id=\"line2d_5\">\r\n      <g>\r\n       <use style=\"stroke:#000000;stroke-width:0.8;\" x=\"358.912024\" xlink:href=\"#m55a182a623\" y=\"224.64\"/>\r\n      </g>\r\n     </g>\r\n     <g id=\"text_5\">\r\n      <!-- 800 -->\r\n      <g transform=\"translate(349.368274 239.238437)scale(0.1 -0.1)\">\r\n       <defs>\r\n        <path d=\"M 31.78125 34.625 \r\nQ 24.75 34.625 20.71875 30.859375 \r\nQ 16.703125 27.09375 16.703125 20.515625 \r\nQ 16.703125 13.921875 20.71875 10.15625 \r\nQ 24.75 6.390625 31.78125 6.390625 \r\nQ 38.8125 6.390625 42.859375 10.171875 \r\nQ 46.921875 13.96875 46.921875 20.515625 \r\nQ 46.921875 27.09375 42.890625 30.859375 \r\nQ 38.875 34.625 31.78125 34.625 \r\nz\r\nM 21.921875 38.8125 \r\nQ 15.578125 40.375 12.03125 44.71875 \r\nQ 8.5 49.078125 8.5 55.328125 \r\nQ 8.5 64.0625 14.71875 69.140625 \r\nQ 20.953125 74.21875 31.78125 74.21875 \r\nQ 42.671875 74.21875 48.875 69.140625 \r\nQ 55.078125 64.0625 55.078125 55.328125 \r\nQ 55.078125 49.078125 51.53125 44.71875 \r\nQ 48 40.375 41.703125 38.8125 \r\nQ 48.828125 37.15625 52.796875 32.3125 \r\nQ 56.78125 27.484375 56.78125 20.515625 \r\nQ 56.78125 9.90625 50.3125 4.234375 \r\nQ 43.84375 -1.421875 31.78125 -1.421875 \r\nQ 19.734375 -1.421875 13.25 4.234375 \r\nQ 6.78125 9.90625 6.78125 20.515625 \r\nQ 6.78125 27.484375 10.78125 32.3125 \r\nQ 14.796875 37.15625 21.921875 38.8125 \r\nz\r\nM 18.3125 54.390625 \r\nQ 18.3125 48.734375 21.84375 45.5625 \r\nQ 25.390625 42.390625 31.78125 42.390625 \r\nQ 38.140625 42.390625 41.71875 45.5625 \r\nQ 45.3125 48.734375 45.3125 54.390625 \r\nQ 45.3125 60.0625 41.71875 63.234375 \r\nQ 38.140625 66.40625 31.78125 66.40625 \r\nQ 25.390625 66.40625 21.84375 63.234375 \r\nQ 18.3125 60.0625 18.3125 54.390625 \r\nz\r\n\" id=\"DejaVuSans-56\"/>\r\n       </defs>\r\n       <use xlink:href=\"#DejaVuSans-56\"/>\r\n       <use x=\"63.623047\" xlink:href=\"#DejaVuSans-48\"/>\r\n       <use x=\"127.246094\" xlink:href=\"#DejaVuSans-48\"/>\r\n      </g>\r\n     </g>\r\n    </g>\r\n   </g>\r\n   <g id=\"matplotlib.axis_2\">\r\n    <g id=\"ytick_1\">\r\n     <g id=\"line2d_6\">\r\n      <defs>\r\n       <path d=\"M 0 0 \r\nL -3.5 0 \r\n\" id=\"mef74b788d7\" style=\"stroke:#000000;stroke-width:0.8;\"/>\r\n      </defs>\r\n      <g>\r\n       <use style=\"stroke:#000000;stroke-width:0.8;\" x=\"66.053125\" xlink:href=\"#mef74b788d7\" y=\"224.64\"/>\r\n      </g>\r\n     </g>\r\n     <g id=\"text_6\">\r\n      <!-- 0 -->\r\n      <g transform=\"translate(52.690625 228.439219)scale(0.1 -0.1)\">\r\n       <use xlink:href=\"#DejaVuSans-48\"/>\r\n      </g>\r\n     </g>\r\n    </g>\r\n    <g id=\"ytick_2\">\r\n     <g id=\"line2d_7\">\r\n      <g>\r\n       <use style=\"stroke:#000000;stroke-width:0.8;\" x=\"66.053125\" xlink:href=\"#mef74b788d7\" y=\"184.911326\"/>\r\n      </g>\r\n     </g>\r\n     <g id=\"text_7\">\r\n      <!-- 20000 -->\r\n      <g transform=\"translate(27.240625 188.710545)scale(0.1 -0.1)\">\r\n       <use xlink:href=\"#DejaVuSans-50\"/>\r\n       <use x=\"63.623047\" xlink:href=\"#DejaVuSans-48\"/>\r\n       <use x=\"127.246094\" xlink:href=\"#DejaVuSans-48\"/>\r\n       <use x=\"190.869141\" xlink:href=\"#DejaVuSans-48\"/>\r\n       <use x=\"254.492188\" xlink:href=\"#DejaVuSans-48\"/>\r\n      </g>\r\n     </g>\r\n    </g>\r\n    <g id=\"ytick_3\">\r\n     <g id=\"line2d_8\">\r\n      <g>\r\n       <use style=\"stroke:#000000;stroke-width:0.8;\" x=\"66.053125\" xlink:href=\"#mef74b788d7\" y=\"145.182652\"/>\r\n      </g>\r\n     </g>\r\n     <g id=\"text_8\">\r\n      <!-- 40000 -->\r\n      <g transform=\"translate(27.240625 148.98187)scale(0.1 -0.1)\">\r\n       <use xlink:href=\"#DejaVuSans-52\"/>\r\n       <use x=\"63.623047\" xlink:href=\"#DejaVuSans-48\"/>\r\n       <use x=\"127.246094\" xlink:href=\"#DejaVuSans-48\"/>\r\n       <use x=\"190.869141\" xlink:href=\"#DejaVuSans-48\"/>\r\n       <use x=\"254.492188\" xlink:href=\"#DejaVuSans-48\"/>\r\n      </g>\r\n     </g>\r\n    </g>\r\n    <g id=\"ytick_4\">\r\n     <g id=\"line2d_9\">\r\n      <g>\r\n       <use style=\"stroke:#000000;stroke-width:0.8;\" x=\"66.053125\" xlink:href=\"#mef74b788d7\" y=\"105.453977\"/>\r\n      </g>\r\n     </g>\r\n     <g id=\"text_9\">\r\n      <!-- 60000 -->\r\n      <g transform=\"translate(27.240625 109.253196)scale(0.1 -0.1)\">\r\n       <use xlink:href=\"#DejaVuSans-54\"/>\r\n       <use x=\"63.623047\" xlink:href=\"#DejaVuSans-48\"/>\r\n       <use x=\"127.246094\" xlink:href=\"#DejaVuSans-48\"/>\r\n       <use x=\"190.869141\" xlink:href=\"#DejaVuSans-48\"/>\r\n       <use x=\"254.492188\" xlink:href=\"#DejaVuSans-48\"/>\r\n      </g>\r\n     </g>\r\n    </g>\r\n    <g id=\"ytick_5\">\r\n     <g id=\"line2d_10\">\r\n      <g>\r\n       <use style=\"stroke:#000000;stroke-width:0.8;\" x=\"66.053125\" xlink:href=\"#mef74b788d7\" y=\"65.725303\"/>\r\n      </g>\r\n     </g>\r\n     <g id=\"text_10\">\r\n      <!-- 80000 -->\r\n      <g transform=\"translate(27.240625 69.524522)scale(0.1 -0.1)\">\r\n       <use xlink:href=\"#DejaVuSans-56\"/>\r\n       <use x=\"63.623047\" xlink:href=\"#DejaVuSans-48\"/>\r\n       <use x=\"127.246094\" xlink:href=\"#DejaVuSans-48\"/>\r\n       <use x=\"190.869141\" xlink:href=\"#DejaVuSans-48\"/>\r\n       <use x=\"254.492188\" xlink:href=\"#DejaVuSans-48\"/>\r\n      </g>\r\n     </g>\r\n    </g>\r\n    <g id=\"ytick_6\">\r\n     <g id=\"line2d_11\">\r\n      <g>\r\n       <use style=\"stroke:#000000;stroke-width:0.8;\" x=\"66.053125\" xlink:href=\"#mef74b788d7\" y=\"25.996629\"/>\r\n      </g>\r\n     </g>\r\n     <g id=\"text_11\">\r\n      <!-- 100000 -->\r\n      <g transform=\"translate(20.878125 29.795848)scale(0.1 -0.1)\">\r\n       <defs>\r\n        <path d=\"M 12.40625 8.296875 \r\nL 28.515625 8.296875 \r\nL 28.515625 63.921875 \r\nL 10.984375 60.40625 \r\nL 10.984375 69.390625 \r\nL 28.421875 72.90625 \r\nL 38.28125 72.90625 \r\nL 38.28125 8.296875 \r\nL 54.390625 8.296875 \r\nL 54.390625 0 \r\nL 12.40625 0 \r\nz\r\n\" id=\"DejaVuSans-49\"/>\r\n       </defs>\r\n       <use xlink:href=\"#DejaVuSans-49\"/>\r\n       <use x=\"63.623047\" xlink:href=\"#DejaVuSans-48\"/>\r\n       <use x=\"127.246094\" xlink:href=\"#DejaVuSans-48\"/>\r\n       <use x=\"190.869141\" xlink:href=\"#DejaVuSans-48\"/>\r\n       <use x=\"254.492188\" xlink:href=\"#DejaVuSans-48\"/>\r\n       <use x=\"318.115234\" xlink:href=\"#DejaVuSans-48\"/>\r\n      </g>\r\n     </g>\r\n    </g>\r\n    <g id=\"text_12\">\r\n     <!-- Frequency -->\r\n     <g transform=\"translate(14.798438 141.749687)rotate(-90)scale(0.1 -0.1)\">\r\n      <defs>\r\n       <path d=\"M 9.8125 72.90625 \r\nL 51.703125 72.90625 \r\nL 51.703125 64.59375 \r\nL 19.671875 64.59375 \r\nL 19.671875 43.109375 \r\nL 48.578125 43.109375 \r\nL 48.578125 34.8125 \r\nL 19.671875 34.8125 \r\nL 19.671875 0 \r\nL 9.8125 0 \r\nz\r\n\" id=\"DejaVuSans-70\"/>\r\n       <path d=\"M 41.109375 46.296875 \r\nQ 39.59375 47.171875 37.8125 47.578125 \r\nQ 36.03125 48 33.890625 48 \r\nQ 26.265625 48 22.1875 43.046875 \r\nQ 18.109375 38.09375 18.109375 28.8125 \r\nL 18.109375 0 \r\nL 9.078125 0 \r\nL 9.078125 54.6875 \r\nL 18.109375 54.6875 \r\nL 18.109375 46.1875 \r\nQ 20.953125 51.171875 25.484375 53.578125 \r\nQ 30.03125 56 36.53125 56 \r\nQ 37.453125 56 38.578125 55.875 \r\nQ 39.703125 55.765625 41.0625 55.515625 \r\nz\r\n\" id=\"DejaVuSans-114\"/>\r\n       <path d=\"M 56.203125 29.59375 \r\nL 56.203125 25.203125 \r\nL 14.890625 25.203125 \r\nQ 15.484375 15.921875 20.484375 11.0625 \r\nQ 25.484375 6.203125 34.421875 6.203125 \r\nQ 39.59375 6.203125 44.453125 7.46875 \r\nQ 49.3125 8.734375 54.109375 11.28125 \r\nL 54.109375 2.78125 \r\nQ 49.265625 0.734375 44.1875 -0.34375 \r\nQ 39.109375 -1.421875 33.890625 -1.421875 \r\nQ 20.796875 -1.421875 13.15625 6.1875 \r\nQ 5.515625 13.8125 5.515625 26.8125 \r\nQ 5.515625 40.234375 12.765625 48.109375 \r\nQ 20.015625 56 32.328125 56 \r\nQ 43.359375 56 49.78125 48.890625 \r\nQ 56.203125 41.796875 56.203125 29.59375 \r\nz\r\nM 47.21875 32.234375 \r\nQ 47.125 39.59375 43.09375 43.984375 \r\nQ 39.0625 48.390625 32.421875 48.390625 \r\nQ 24.90625 48.390625 20.390625 44.140625 \r\nQ 15.875 39.890625 15.1875 32.171875 \r\nz\r\n\" id=\"DejaVuSans-101\"/>\r\n       <path d=\"M 14.796875 27.296875 \r\nQ 14.796875 17.390625 18.875 11.75 \r\nQ 22.953125 6.109375 30.078125 6.109375 \r\nQ 37.203125 6.109375 41.296875 11.75 \r\nQ 45.40625 17.390625 45.40625 27.296875 \r\nQ 45.40625 37.203125 41.296875 42.84375 \r\nQ 37.203125 48.484375 30.078125 48.484375 \r\nQ 22.953125 48.484375 18.875 42.84375 \r\nQ 14.796875 37.203125 14.796875 27.296875 \r\nz\r\nM 45.40625 8.203125 \r\nQ 42.578125 3.328125 38.25 0.953125 \r\nQ 33.9375 -1.421875 27.875 -1.421875 \r\nQ 17.96875 -1.421875 11.734375 6.484375 \r\nQ 5.515625 14.40625 5.515625 27.296875 \r\nQ 5.515625 40.1875 11.734375 48.09375 \r\nQ 17.96875 56 27.875 56 \r\nQ 33.9375 56 38.25 53.625 \r\nQ 42.578125 51.265625 45.40625 46.390625 \r\nL 45.40625 54.6875 \r\nL 54.390625 54.6875 \r\nL 54.390625 -20.796875 \r\nL 45.40625 -20.796875 \r\nz\r\n\" id=\"DejaVuSans-113\"/>\r\n       <path d=\"M 8.5 21.578125 \r\nL 8.5 54.6875 \r\nL 17.484375 54.6875 \r\nL 17.484375 21.921875 \r\nQ 17.484375 14.15625 20.5 10.265625 \r\nQ 23.53125 6.390625 29.59375 6.390625 \r\nQ 36.859375 6.390625 41.078125 11.03125 \r\nQ 45.3125 15.671875 45.3125 23.6875 \r\nL 45.3125 54.6875 \r\nL 54.296875 54.6875 \r\nL 54.296875 0 \r\nL 45.3125 0 \r\nL 45.3125 8.40625 \r\nQ 42.046875 3.421875 37.71875 1 \r\nQ 33.40625 -1.421875 27.6875 -1.421875 \r\nQ 18.265625 -1.421875 13.375 4.4375 \r\nQ 8.5 10.296875 8.5 21.578125 \r\nz\r\nM 31.109375 56 \r\nz\r\n\" id=\"DejaVuSans-117\"/>\r\n       <path d=\"M 54.890625 33.015625 \r\nL 54.890625 0 \r\nL 45.90625 0 \r\nL 45.90625 32.71875 \r\nQ 45.90625 40.484375 42.875 44.328125 \r\nQ 39.84375 48.1875 33.796875 48.1875 \r\nQ 26.515625 48.1875 22.3125 43.546875 \r\nQ 18.109375 38.921875 18.109375 30.90625 \r\nL 18.109375 0 \r\nL 9.078125 0 \r\nL 9.078125 54.6875 \r\nL 18.109375 54.6875 \r\nL 18.109375 46.1875 \r\nQ 21.34375 51.125 25.703125 53.5625 \r\nQ 30.078125 56 35.796875 56 \r\nQ 45.21875 56 50.046875 50.171875 \r\nQ 54.890625 44.34375 54.890625 33.015625 \r\nz\r\n\" id=\"DejaVuSans-110\"/>\r\n       <path d=\"M 48.78125 52.59375 \r\nL 48.78125 44.1875 \r\nQ 44.96875 46.296875 41.140625 47.34375 \r\nQ 37.3125 48.390625 33.40625 48.390625 \r\nQ 24.65625 48.390625 19.8125 42.84375 \r\nQ 14.984375 37.3125 14.984375 27.296875 \r\nQ 14.984375 17.28125 19.8125 11.734375 \r\nQ 24.65625 6.203125 33.40625 6.203125 \r\nQ 37.3125 6.203125 41.140625 7.25 \r\nQ 44.96875 8.296875 48.78125 10.40625 \r\nL 48.78125 2.09375 \r\nQ 45.015625 0.34375 40.984375 -0.53125 \r\nQ 36.96875 -1.421875 32.421875 -1.421875 \r\nQ 20.0625 -1.421875 12.78125 6.34375 \r\nQ 5.515625 14.109375 5.515625 27.296875 \r\nQ 5.515625 40.671875 12.859375 48.328125 \r\nQ 20.21875 56 33.015625 56 \r\nQ 37.15625 56 41.109375 55.140625 \r\nQ 45.0625 54.296875 48.78125 52.59375 \r\nz\r\n\" id=\"DejaVuSans-99\"/>\r\n       <path d=\"M 32.171875 -5.078125 \r\nQ 28.375 -14.84375 24.75 -17.8125 \r\nQ 21.140625 -20.796875 15.09375 -20.796875 \r\nL 7.90625 -20.796875 \r\nL 7.90625 -13.28125 \r\nL 13.1875 -13.28125 \r\nQ 16.890625 -13.28125 18.9375 -11.515625 \r\nQ 21 -9.765625 23.484375 -3.21875 \r\nL 25.09375 0.875 \r\nL 2.984375 54.6875 \r\nL 12.5 54.6875 \r\nL 29.59375 11.921875 \r\nL 46.6875 54.6875 \r\nL 56.203125 54.6875 \r\nz\r\n\" id=\"DejaVuSans-121\"/>\r\n      </defs>\r\n      <use xlink:href=\"#DejaVuSans-70\"/>\r\n      <use x=\"50.269531\" xlink:href=\"#DejaVuSans-114\"/>\r\n      <use x=\"89.132812\" xlink:href=\"#DejaVuSans-101\"/>\r\n      <use x=\"150.65625\" xlink:href=\"#DejaVuSans-113\"/>\r\n      <use x=\"214.132812\" xlink:href=\"#DejaVuSans-117\"/>\r\n      <use x=\"277.511719\" xlink:href=\"#DejaVuSans-101\"/>\r\n      <use x=\"339.035156\" xlink:href=\"#DejaVuSans-110\"/>\r\n      <use x=\"402.414062\" xlink:href=\"#DejaVuSans-99\"/>\r\n      <use x=\"457.394531\" xlink:href=\"#DejaVuSans-121\"/>\r\n     </g>\r\n    </g>\r\n   </g>\r\n   <g id=\"patch_103\">\r\n    <path d=\"M 66.053125 224.64 \r\nL 66.053125 7.2 \r\n\" style=\"fill:none;stroke:#000000;stroke-linecap:square;stroke-linejoin:miter;stroke-width:0.8;\"/>\r\n   </g>\r\n   <g id=\"patch_104\">\r\n    <path d=\"M 400.853125 224.64 \r\nL 400.853125 7.2 \r\n\" style=\"fill:none;stroke:#000000;stroke-linecap:square;stroke-linejoin:miter;stroke-width:0.8;\"/>\r\n   </g>\r\n   <g id=\"patch_105\">\r\n    <path d=\"M 66.053125 224.64 \r\nL 400.853125 224.64 \r\n\" style=\"fill:none;stroke:#000000;stroke-linecap:square;stroke-linejoin:miter;stroke-width:0.8;\"/>\r\n   </g>\r\n   <g id=\"patch_106\">\r\n    <path d=\"M 66.053125 7.2 \r\nL 400.853125 7.2 \r\n\" style=\"fill:none;stroke:#000000;stroke-linecap:square;stroke-linejoin:miter;stroke-width:0.8;\"/>\r\n   </g>\r\n  </g>\r\n </g>\r\n <defs>\r\n  <clipPath id=\"p9f4749255b\">\r\n   <rect height=\"217.44\" width=\"334.8\" x=\"66.053125\" y=\"7.2\"/>\r\n  </clipPath>\r\n </defs>\r\n</svg>\r\n",
      "image/png": "[encoded data removed]"
     },
     "metadata": {
      "needs_background": "light"
     }
    }
   ],
   "metadata": {}
  },
  {
   "cell_type": "code",
   "execution_count": null,
   "source": [
    "cv.split(X_train, y_train)"
   ],
   "outputs": [],
   "metadata": {}
  },
  {
   "cell_type": "code",
   "execution_count": null,
   "source": [
    "# hashlib.md5(b\"1\").digest()\r\n",
    "import hashlib\r\n",
    "# dat = frozenset(tuner_cv.best_params.items())\r\n",
    "# SHA512のハッシュ値\r\n",
    "# hs = hashlib.sha1()\r\n",
    "hashlib.sha1(str(frozenset(tuner_cv.best_params.items())).encode().hexdigest())\r\n",
    "# hs = hashlib.sha224(frozenset(tuner_cv.best_params.items()))\r\n",
    "# hs = hashlib.sha224(dat.encode()).hexdigest()\r\n",
    "# print(hs)\r\n",
    "# dat\r\n"
   ],
   "outputs": [],
   "metadata": {}
  },
  {
   "cell_type": "code",
   "execution_count": null,
   "source": [
    "# tuner_cv.best_score\r\n",
    "# tuner_cv.best_params\r\n",
    "# checkpoint_cb.cv_boosters[4115625917578661725]\r\n",
    "\r\n",
    "len(checkpoint_cb.cv_boosters)\r\n",
    "# len(tuner_cv.study.trials)\r\n",
    "# checkpoint_cb.get_trained_model(tuner_cv.best_params)\r\n",
    "# checkpoint_cb.cv_boosters.keys()\r\n",
    "# # tuner_cv.best_params\r\n",
    "# cv_booster = checkpoint_cb.get_trained_model(tuner_cv.best_params)\r\n"
   ],
   "outputs": [],
   "metadata": {}
  },
  {
   "cell_type": "code",
   "execution_count": null,
   "source": [
    "'''GW中の移動平均を観察 見た感じ2016,2017のGWは祝日フラグを立ててもよさそう\r\n",
    "is_holidayに代入するかと思ったけどすでにしてあった'''\r\n",
    "# クエリが意図したとおりに動作しなかったのでクエリなしで\r\n",
    "# tmp.query(\"visit_date2 > '2016-03-28'\" and \"visit_date2 < '2016-05-28'\")\r\n",
    "\r\n",
    "tmp = avd.groupby('visit_date').agg({'visitors': 'mean'})\r\n",
    "tmp = tmp.query(\"index > '2016-03-28'\" and \"index < '2016-05-28'\")\r\n",
    "# print(tmp)\r\n",
    "tmp['visit_date2'] = tmp.index\r\n",
    "tmp['visit_date2'] = pd.to_datetime(tmp['visit_date2'])\r\n",
    "tmp['visit_dateint'] = tmp['visit_date2'].astype(np.int64)\r\n",
    "# 移動平均\r\n",
    "window = 7\r\n",
    "tmp[\"visitors_7\"] = tmp[\"visitors\"].rolling(window).mean()\r\n",
    "\r\n",
    "import matplotlib.pyplot as plt\r\n",
    "plt.rcParams['figure.figsize']=[12, 9]\r\n",
    "fig1 = plt.figure(1)\r\n",
    "################################\r\n",
    "#1つ目のウィンドウ 1つ目のグラフ\r\n",
    "################################\r\n",
    "ax1 = fig1.add_subplot(211)\r\n",
    "# plt.plot(tmp.visit_dateint, tmp.visitors_7)\r\n",
    "plt.plot(tmp.visit_dateint, tmp.visitors)\r\n",
    "\r\n",
    "plt.minorticks_on(); plt.grid(True, which='both') # whichがbothなので主目盛り副目盛り両方グリッド線を描画\r\n",
    "p = plt.vlines([1461888000000000000], 10, 40, \"blue\", linestyles='dashed') # GW\r\n",
    "p = plt.vlines([1462665600000000000], 10, 40, \"blue\", linestyles='dashed') # GW\r\n",
    "p = plt.vlines([1462147200000000000], 10, 40, \"red\", linestyles='dashed') # GWだが5/2で平日\r\n",
    "p = plt.vlines([1462492800000000000], 10, 40, \"red\", linestyles='dashed') # GWだが5/6で平日\r\n",
    "# 2016\r\n",
    "# 4月29日（金・祝）昭和の日\r\n",
    "# 4月30日（土）\r\n",
    "# 5月1日 （日）\r\n",
    "# 5月2日 （月）平日\r\n",
    "# 5月3日 （火・祝）憲法記念日\r\n",
    "# 5月4日 （水・祝）みどりの日\r\n",
    "# 5月5日 （木・祝）こどもの日\r\n",
    "# 5月6日 （金）平日\r\n",
    "# 5月7日（土）\r\n",
    "# 5月8日（日）"
   ],
   "outputs": [],
   "metadata": {}
  },
  {
   "cell_type": "code",
   "execution_count": null,
   "source": [
    "%matplotlib inline\r\n",
    "import shap\r\n",
    "shap.initjs()\r\n",
    "X_test = shap.sample(X_test, 1000)\r\n",
    "explainer = shap.TreeExplainer(model, data=X_test)\r\n",
    "# Consider using shap.sample(data, 100) to create a smaller background data set.\r\n",
    "\r\n",
    "# そして、TreeExplainer を使って、モデルがどのように推論するか解釈したいデータについて SHAP Value を計算しよう。\r\n",
    "# この SHAP Value は、入力したのと同じ次元と要素数で得られる。 そして、値が大きいほど推論において影響が大きいと見なすことができる。\r\n",
    "tr_x_shap_values = explainer.shap_values(X_test)\r\n",
    "# つまり、行方向に見れば「特定の予測に、それぞれの特徴量がどれくらい寄与したか」と解釈できる。 \r\n",
    "# 同様に、列方向に見れば「予測全体で、その特徴量がどれくらい寄与したか」と解釈できる。\r\n",
    "\r\n",
    "# SHAP Value は自分で可視化しても良いけど、組み込みでいくつかグラフを描画する仕組みが用意されている。 ここからは、それらを使い分けなどと共に見ていこう。\r\n",
    "# Summary Plot\r\n",
    "# はじめに、Summary Plot から。 このグラフは、デフォルトでは特徴量ごとに SHAP Value を一軸の散布図として描画する。\r\n",
    "\r\n",
    "shap.summary_plot(shap_values=tr_x_shap_values,\r\n",
    "                  features=X_test,\r\n",
    "                  feature_names=X_test.columns)\r\n"
   ],
   "outputs": [],
   "metadata": {}
  }
 ],
 "metadata": {
  "kernelspec": {
   "name": "python3",
   "display_name": "Python 3.8.11 64-bit ('rake4': conda)"
  },
  "language_info": {
   "codemirror_mode": {
    "name": "ipython",
    "version": 3
   },
   "file_extension": ".py",
   "mimetype": "text/x-python",
   "name": "python",
   "nbconvert_exporter": "python",
   "pygments_lexer": "ipython3",
   "version": "3.8.11"
  },
  "varInspector": {
   "cols": {
    "lenName": 16,
    "lenType": 16,
    "lenVar": 40
   },
   "kernels_config": {
    "python": {
     "delete_cmd_postfix": "",
     "delete_cmd_prefix": "del ",
     "library": "var_list.py",
     "varRefreshCmd": "print(var_dic_list())"
    },
    "r": {
     "delete_cmd_postfix": ") ",
     "delete_cmd_prefix": "rm(",
     "library": "var_list.r",
     "varRefreshCmd": "cat(var_dic_list()) "
    }
   },
   "types_to_exclude": [
    "module",
    "function",
    "builtin_function_or_method",
    "instance",
    "_Feature"
   ],
   "window_display": false
  },
  "interpreter": {
   "hash": "dd5a840675b4b7a0124460e0160a18be5bf8441ea5223e9a03f358a511ddc22e"
  }
 },
 "nbformat": 4,
 "nbformat_minor": 5
}